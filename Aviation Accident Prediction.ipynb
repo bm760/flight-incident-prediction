{
 "cells": [
  {
   "cell_type": "markdown",
   "metadata": {},
   "source": [
    "# Aviation Accident Prediction\n",
    "\n",
    "### Summary:\n",
    "\n",
    "- Data Sources:\n",
    "    - Aviation Accidents: https://www.kaggle.com/khsamaha/aviation-accident-database-synopses?select=AviationData.csv\n",
    "    - US Weather Events: https://www.kaggle.com/selfishgene/historical-hourly-weather-data\n",
    "    - Flights: https://www.kaggle.com/zernach/2018-airplane-flights\n",
    "    \n",
    "- Environment Setup & Data Load:    \n",
    "- EDA:\n",
    "- Preprocessing:"
   ]
  },
  {
   "cell_type": "markdown",
   "metadata": {},
   "source": [
    "## Environment Setup:"
   ]
  },
  {
   "cell_type": "markdown",
   "metadata": {},
   "source": [
    "#### Import packages"
   ]
  },
  {
   "cell_type": "code",
   "execution_count": 1,
   "metadata": {},
   "outputs": [],
   "source": [
    "import pandas as pd\n",
    "import numpy as np\n",
    "import os"
   ]
  },
  {
   "cell_type": "markdown",
   "metadata": {},
   "source": [
    "#### Get Current Working Directory"
   ]
  },
  {
   "cell_type": "code",
   "execution_count": 2,
   "metadata": {
    "scrolled": true
   },
   "outputs": [
    {
     "name": "stdout",
     "output_type": "stream",
     "text": [
      "C:\\Users\\thoma\\Desktop\\Rutgers MBS\\Learning_Directory\\Aviation Accident Prediction Project\n"
     ]
    }
   ],
   "source": [
    "print(os.getcwd())"
   ]
  },
  {
   "cell_type": "code",
   "execution_count": 3,
   "metadata": {},
   "outputs": [],
   "source": [
    "wd = os.getcwd()"
   ]
  },
  {
   "cell_type": "code",
   "execution_count": null,
   "metadata": {},
   "outputs": [],
   "source": []
  },
  {
   "cell_type": "code",
   "execution_count": null,
   "metadata": {},
   "outputs": [],
   "source": []
  },
  {
   "cell_type": "markdown",
   "metadata": {},
   "source": [
    "## Load Data:"
   ]
  },
  {
   "cell_type": "markdown",
   "metadata": {},
   "source": [
    "#### Aviation Data:"
   ]
  },
  {
   "cell_type": "code",
   "execution_count": 4,
   "metadata": {},
   "outputs": [],
   "source": [
    "accident_df = pd.read_csv(os.path.join(wd,'AviationData.csv'))"
   ]
  },
  {
   "cell_type": "code",
   "execution_count": 5,
   "metadata": {},
   "outputs": [
    {
     "data": {
      "text/html": [
       "<div>\n",
       "<style scoped>\n",
       "    .dataframe tbody tr th:only-of-type {\n",
       "        vertical-align: middle;\n",
       "    }\n",
       "\n",
       "    .dataframe tbody tr th {\n",
       "        vertical-align: top;\n",
       "    }\n",
       "\n",
       "    .dataframe thead th {\n",
       "        text-align: right;\n",
       "    }\n",
       "</style>\n",
       "<table border=\"1\" class=\"dataframe\">\n",
       "  <thead>\n",
       "    <tr style=\"text-align: right;\">\n",
       "      <th></th>\n",
       "      <th>Event.Id</th>\n",
       "      <th>Investigation.Type</th>\n",
       "      <th>Accident.Number</th>\n",
       "      <th>Event.Date</th>\n",
       "      <th>Location</th>\n",
       "      <th>Country</th>\n",
       "      <th>Latitude</th>\n",
       "      <th>Longitude</th>\n",
       "      <th>Airport.Code</th>\n",
       "      <th>Airport.Name</th>\n",
       "      <th>...</th>\n",
       "      <th>Purpose.of.Flight</th>\n",
       "      <th>Air.Carrier</th>\n",
       "      <th>Total.Fatal.Injuries</th>\n",
       "      <th>Total.Serious.Injuries</th>\n",
       "      <th>Total.Minor.Injuries</th>\n",
       "      <th>Total.Uninjured</th>\n",
       "      <th>Weather.Condition</th>\n",
       "      <th>Broad.Phase.of.Flight</th>\n",
       "      <th>Report.Status</th>\n",
       "      <th>Publication.Date</th>\n",
       "    </tr>\n",
       "  </thead>\n",
       "  <tbody>\n",
       "    <tr>\n",
       "      <th>0</th>\n",
       "      <td>20200102X82407</td>\n",
       "      <td>Accident</td>\n",
       "      <td>WPR20CA055</td>\n",
       "      <td>12/31/2019</td>\n",
       "      <td>Elk, CA</td>\n",
       "      <td>United States</td>\n",
       "      <td>39.128611</td>\n",
       "      <td>-123.715833</td>\n",
       "      <td>LLR</td>\n",
       "      <td>Little River</td>\n",
       "      <td>...</td>\n",
       "      <td>Personal</td>\n",
       "      <td>NaN</td>\n",
       "      <td>NaN</td>\n",
       "      <td>NaN</td>\n",
       "      <td>NaN</td>\n",
       "      <td>1.0</td>\n",
       "      <td>VMC</td>\n",
       "      <td>TAKEOFF</td>\n",
       "      <td>Factual</td>\n",
       "      <td>13/01/2020</td>\n",
       "    </tr>\n",
       "    <tr>\n",
       "      <th>1</th>\n",
       "      <td>20191231X83852</td>\n",
       "      <td>Accident</td>\n",
       "      <td>CEN20FA049</td>\n",
       "      <td>12/31/2019</td>\n",
       "      <td>OLATHE, KS</td>\n",
       "      <td>United States</td>\n",
       "      <td>38.846111</td>\n",
       "      <td>-94.736111</td>\n",
       "      <td>OJC</td>\n",
       "      <td>Johnson County Executive</td>\n",
       "      <td>...</td>\n",
       "      <td>Personal</td>\n",
       "      <td>NaN</td>\n",
       "      <td>2.0</td>\n",
       "      <td>NaN</td>\n",
       "      <td>NaN</td>\n",
       "      <td>NaN</td>\n",
       "      <td>VMC</td>\n",
       "      <td>TAKEOFF</td>\n",
       "      <td>Preliminary</td>\n",
       "      <td>8/1/2020</td>\n",
       "    </tr>\n",
       "    <tr>\n",
       "      <th>2</th>\n",
       "      <td>20200102X54844</td>\n",
       "      <td>Accident</td>\n",
       "      <td>ANC20CA011</td>\n",
       "      <td>12/31/2019</td>\n",
       "      <td>Fairbanks, AK</td>\n",
       "      <td>United States</td>\n",
       "      <td>64.666945</td>\n",
       "      <td>-148.133334</td>\n",
       "      <td>NaN</td>\n",
       "      <td>NaN</td>\n",
       "      <td>...</td>\n",
       "      <td>Personal</td>\n",
       "      <td>NaN</td>\n",
       "      <td>NaN</td>\n",
       "      <td>NaN</td>\n",
       "      <td>NaN</td>\n",
       "      <td>2.0</td>\n",
       "      <td>NaN</td>\n",
       "      <td>NaN</td>\n",
       "      <td>Preliminary</td>\n",
       "      <td>2/1/2020</td>\n",
       "    </tr>\n",
       "    <tr>\n",
       "      <th>3</th>\n",
       "      <td>20191230X91852</td>\n",
       "      <td>Accident</td>\n",
       "      <td>CEN20CA048</td>\n",
       "      <td>12/30/2019</td>\n",
       "      <td>GRANBURY, TX</td>\n",
       "      <td>United States</td>\n",
       "      <td>32.365556</td>\n",
       "      <td>-97.645000</td>\n",
       "      <td>NaN</td>\n",
       "      <td>NaN</td>\n",
       "      <td>...</td>\n",
       "      <td>Personal</td>\n",
       "      <td>NaN</td>\n",
       "      <td>NaN</td>\n",
       "      <td>NaN</td>\n",
       "      <td>NaN</td>\n",
       "      <td>1.0</td>\n",
       "      <td>NaN</td>\n",
       "      <td>NaN</td>\n",
       "      <td>Preliminary</td>\n",
       "      <td>31/12/2019</td>\n",
       "    </tr>\n",
       "    <tr>\n",
       "      <th>4</th>\n",
       "      <td>20191228X62945</td>\n",
       "      <td>NaN</td>\n",
       "      <td>WPR20CA053</td>\n",
       "      <td>12/28/2019</td>\n",
       "      <td>Missoula, MT</td>\n",
       "      <td>United States</td>\n",
       "      <td>NaN</td>\n",
       "      <td>NaN</td>\n",
       "      <td>MSO</td>\n",
       "      <td>NaN</td>\n",
       "      <td>...</td>\n",
       "      <td>NaN</td>\n",
       "      <td>NaN</td>\n",
       "      <td>NaN</td>\n",
       "      <td>NaN</td>\n",
       "      <td>NaN</td>\n",
       "      <td>NaN</td>\n",
       "      <td>NaN</td>\n",
       "      <td>NaN</td>\n",
       "      <td>Preliminary</td>\n",
       "      <td>3/1/2020</td>\n",
       "    </tr>\n",
       "  </tbody>\n",
       "</table>\n",
       "<p>5 rows × 31 columns</p>\n",
       "</div>"
      ],
      "text/plain": [
       "         Event.Id Investigation.Type Accident.Number  Event.Date  \\\n",
       "0  20200102X82407           Accident      WPR20CA055  12/31/2019   \n",
       "1  20191231X83852           Accident      CEN20FA049  12/31/2019   \n",
       "2  20200102X54844           Accident      ANC20CA011  12/31/2019   \n",
       "3  20191230X91852           Accident      CEN20CA048  12/30/2019   \n",
       "4  20191228X62945                NaN      WPR20CA053  12/28/2019   \n",
       "\n",
       "        Location        Country   Latitude   Longitude Airport.Code  \\\n",
       "0        Elk, CA  United States  39.128611 -123.715833          LLR   \n",
       "1     OLATHE, KS  United States  38.846111  -94.736111          OJC   \n",
       "2  Fairbanks, AK  United States  64.666945 -148.133334          NaN   \n",
       "3   GRANBURY, TX  United States  32.365556  -97.645000          NaN   \n",
       "4   Missoula, MT  United States        NaN         NaN          MSO   \n",
       "\n",
       "               Airport.Name       ...        Purpose.of.Flight Air.Carrier  \\\n",
       "0              Little River       ...                 Personal         NaN   \n",
       "1  Johnson County Executive       ...                 Personal         NaN   \n",
       "2                       NaN       ...                 Personal         NaN   \n",
       "3                       NaN       ...                 Personal         NaN   \n",
       "4                       NaN       ...                      NaN         NaN   \n",
       "\n",
       "  Total.Fatal.Injuries Total.Serious.Injuries Total.Minor.Injuries  \\\n",
       "0                  NaN                    NaN                  NaN   \n",
       "1                  2.0                    NaN                  NaN   \n",
       "2                  NaN                    NaN                  NaN   \n",
       "3                  NaN                    NaN                  NaN   \n",
       "4                  NaN                    NaN                  NaN   \n",
       "\n",
       "  Total.Uninjured Weather.Condition  Broad.Phase.of.Flight Report.Status  \\\n",
       "0             1.0               VMC                TAKEOFF       Factual   \n",
       "1             NaN               VMC                TAKEOFF   Preliminary   \n",
       "2             2.0               NaN                    NaN   Preliminary   \n",
       "3             1.0               NaN                    NaN   Preliminary   \n",
       "4             NaN               NaN                    NaN   Preliminary   \n",
       "\n",
       "  Publication.Date  \n",
       "0       13/01/2020  \n",
       "1         8/1/2020  \n",
       "2         2/1/2020  \n",
       "3       31/12/2019  \n",
       "4         3/1/2020  \n",
       "\n",
       "[5 rows x 31 columns]"
      ]
     },
     "execution_count": 5,
     "metadata": {},
     "output_type": "execute_result"
    }
   ],
   "source": [
    "accident_df.head()"
   ]
  },
  {
   "cell_type": "code",
   "execution_count": 61,
   "metadata": {},
   "outputs": [
    {
     "data": {
      "text/plain": [
       "Index(['Event.Id', 'Investigation.Type', 'Accident.Number', 'Event.Date',\n",
       "       'Location', 'Country', 'Latitude', 'Longitude', 'Airport.Code',\n",
       "       'Airport.Name', 'Injury.Severity', 'Aircraft.Damage',\n",
       "       'Aircraft.Category', 'Registration.Number', 'Make', 'Model',\n",
       "       'Amateur.Built', 'Number.of.Engines', 'Engine.Type', 'FAR.Description',\n",
       "       'Schedule', 'Purpose.of.Flight', 'Air.Carrier', 'Total.Fatal.Injuries',\n",
       "       'Total.Serious.Injuries', 'Total.Minor.Injuries', 'Total.Uninjured',\n",
       "       'Weather.Condition', 'Broad.Phase.of.Flight', 'Report.Status',\n",
       "       'Publication.Date'],\n",
       "      dtype='object')"
      ]
     },
     "execution_count": 61,
     "metadata": {},
     "output_type": "execute_result"
    }
   ],
   "source": [
    "accident_df.columns"
   ]
  },
  {
   "cell_type": "code",
   "execution_count": 7,
   "metadata": {},
   "outputs": [
    {
     "data": {
      "text/plain": [
       "(84262, 31)"
      ]
     },
     "execution_count": 7,
     "metadata": {},
     "output_type": "execute_result"
    }
   ],
   "source": [
    "accident_df.shape"
   ]
  },
  {
   "cell_type": "code",
   "execution_count": null,
   "metadata": {},
   "outputs": [],
   "source": []
  },
  {
   "cell_type": "markdown",
   "metadata": {},
   "source": [
    "#### Weather Event Data:"
   ]
  },
  {
   "cell_type": "code",
   "execution_count": 8,
   "metadata": {},
   "outputs": [],
   "source": [
    "us_weather_events_df = pd.read_csv(os.path.join(wd,'US_WeatherEvents_2016-2019.csv'))"
   ]
  },
  {
   "cell_type": "code",
   "execution_count": 9,
   "metadata": {},
   "outputs": [
    {
     "data": {
      "text/html": [
       "<div>\n",
       "<style scoped>\n",
       "    .dataframe tbody tr th:only-of-type {\n",
       "        vertical-align: middle;\n",
       "    }\n",
       "\n",
       "    .dataframe tbody tr th {\n",
       "        vertical-align: top;\n",
       "    }\n",
       "\n",
       "    .dataframe thead th {\n",
       "        text-align: right;\n",
       "    }\n",
       "</style>\n",
       "<table border=\"1\" class=\"dataframe\">\n",
       "  <thead>\n",
       "    <tr style=\"text-align: right;\">\n",
       "      <th></th>\n",
       "      <th>EventId</th>\n",
       "      <th>Type</th>\n",
       "      <th>Severity</th>\n",
       "      <th>StartTime(UTC)</th>\n",
       "      <th>EndTime(UTC)</th>\n",
       "      <th>TimeZone</th>\n",
       "      <th>AirportCode</th>\n",
       "      <th>LocationLat</th>\n",
       "      <th>LocationLng</th>\n",
       "      <th>City</th>\n",
       "      <th>County</th>\n",
       "      <th>State</th>\n",
       "      <th>ZipCode</th>\n",
       "    </tr>\n",
       "  </thead>\n",
       "  <tbody>\n",
       "    <tr>\n",
       "      <th>0</th>\n",
       "      <td>W-1</td>\n",
       "      <td>Snow</td>\n",
       "      <td>Light</td>\n",
       "      <td>1/6/2016 23:14</td>\n",
       "      <td>1/7/2016 0:34</td>\n",
       "      <td>US/Mountain</td>\n",
       "      <td>K04V</td>\n",
       "      <td>38.0972</td>\n",
       "      <td>-106.1689</td>\n",
       "      <td>Saguache</td>\n",
       "      <td>Saguache</td>\n",
       "      <td>CO</td>\n",
       "      <td>81149.0</td>\n",
       "    </tr>\n",
       "    <tr>\n",
       "      <th>1</th>\n",
       "      <td>W-2</td>\n",
       "      <td>Snow</td>\n",
       "      <td>Light</td>\n",
       "      <td>1/7/2016 4:14</td>\n",
       "      <td>1/7/2016 4:54</td>\n",
       "      <td>US/Mountain</td>\n",
       "      <td>K04V</td>\n",
       "      <td>38.0972</td>\n",
       "      <td>-106.1689</td>\n",
       "      <td>Saguache</td>\n",
       "      <td>Saguache</td>\n",
       "      <td>CO</td>\n",
       "      <td>81149.0</td>\n",
       "    </tr>\n",
       "    <tr>\n",
       "      <th>2</th>\n",
       "      <td>W-3</td>\n",
       "      <td>Snow</td>\n",
       "      <td>Light</td>\n",
       "      <td>1/7/2016 5:54</td>\n",
       "      <td>1/7/2016 15:34</td>\n",
       "      <td>US/Mountain</td>\n",
       "      <td>K04V</td>\n",
       "      <td>38.0972</td>\n",
       "      <td>-106.1689</td>\n",
       "      <td>Saguache</td>\n",
       "      <td>Saguache</td>\n",
       "      <td>CO</td>\n",
       "      <td>81149.0</td>\n",
       "    </tr>\n",
       "    <tr>\n",
       "      <th>3</th>\n",
       "      <td>W-4</td>\n",
       "      <td>Snow</td>\n",
       "      <td>Light</td>\n",
       "      <td>1/8/2016 5:34</td>\n",
       "      <td>1/8/2016 5:54</td>\n",
       "      <td>US/Mountain</td>\n",
       "      <td>K04V</td>\n",
       "      <td>38.0972</td>\n",
       "      <td>-106.1689</td>\n",
       "      <td>Saguache</td>\n",
       "      <td>Saguache</td>\n",
       "      <td>CO</td>\n",
       "      <td>81149.0</td>\n",
       "    </tr>\n",
       "    <tr>\n",
       "      <th>4</th>\n",
       "      <td>W-5</td>\n",
       "      <td>Snow</td>\n",
       "      <td>Light</td>\n",
       "      <td>1/8/2016 13:54</td>\n",
       "      <td>1/8/2016 15:54</td>\n",
       "      <td>US/Mountain</td>\n",
       "      <td>K04V</td>\n",
       "      <td>38.0972</td>\n",
       "      <td>-106.1689</td>\n",
       "      <td>Saguache</td>\n",
       "      <td>Saguache</td>\n",
       "      <td>CO</td>\n",
       "      <td>81149.0</td>\n",
       "    </tr>\n",
       "  </tbody>\n",
       "</table>\n",
       "</div>"
      ],
      "text/plain": [
       "  EventId  Type Severity  StartTime(UTC)    EndTime(UTC)     TimeZone  \\\n",
       "0     W-1  Snow    Light  1/6/2016 23:14   1/7/2016 0:34  US/Mountain   \n",
       "1     W-2  Snow    Light   1/7/2016 4:14   1/7/2016 4:54  US/Mountain   \n",
       "2     W-3  Snow    Light   1/7/2016 5:54  1/7/2016 15:34  US/Mountain   \n",
       "3     W-4  Snow    Light   1/8/2016 5:34   1/8/2016 5:54  US/Mountain   \n",
       "4     W-5  Snow    Light  1/8/2016 13:54  1/8/2016 15:54  US/Mountain   \n",
       "\n",
       "  AirportCode  LocationLat  LocationLng      City    County State  ZipCode  \n",
       "0        K04V      38.0972    -106.1689  Saguache  Saguache    CO  81149.0  \n",
       "1        K04V      38.0972    -106.1689  Saguache  Saguache    CO  81149.0  \n",
       "2        K04V      38.0972    -106.1689  Saguache  Saguache    CO  81149.0  \n",
       "3        K04V      38.0972    -106.1689  Saguache  Saguache    CO  81149.0  \n",
       "4        K04V      38.0972    -106.1689  Saguache  Saguache    CO  81149.0  "
      ]
     },
     "execution_count": 9,
     "metadata": {},
     "output_type": "execute_result"
    }
   ],
   "source": [
    "us_weather_events_df.head()"
   ]
  },
  {
   "cell_type": "code",
   "execution_count": 10,
   "metadata": {},
   "outputs": [
    {
     "data": {
      "text/plain": [
       "Index(['EventId', 'Type', 'Severity', 'StartTime(UTC)', 'EndTime(UTC)',\n",
       "       'TimeZone', 'AirportCode', 'LocationLat', 'LocationLng', 'City',\n",
       "       'County', 'State', 'ZipCode'],\n",
       "      dtype='object')"
      ]
     },
     "execution_count": 10,
     "metadata": {},
     "output_type": "execute_result"
    }
   ],
   "source": [
    "us_weather_events_df.columns"
   ]
  },
  {
   "cell_type": "code",
   "execution_count": 11,
   "metadata": {},
   "outputs": [
    {
     "data": {
      "text/plain": [
       "(1048575, 13)"
      ]
     },
     "execution_count": 11,
     "metadata": {},
     "output_type": "execute_result"
    }
   ],
   "source": [
    "us_weather_events_df.shape"
   ]
  },
  {
   "cell_type": "code",
   "execution_count": null,
   "metadata": {},
   "outputs": [],
   "source": []
  },
  {
   "cell_type": "markdown",
   "metadata": {},
   "source": [
    "#### Flight Data:"
   ]
  },
  {
   "cell_type": "code",
   "execution_count": 12,
   "metadata": {},
   "outputs": [],
   "source": [
    "flights_df = pd.read_csv(os.path.join(wd,'Cleaned_2018_Flights.csv'))"
   ]
  },
  {
   "cell_type": "code",
   "execution_count": 13,
   "metadata": {},
   "outputs": [
    {
     "data": {
      "text/html": [
       "<div>\n",
       "<style scoped>\n",
       "    .dataframe tbody tr th:only-of-type {\n",
       "        vertical-align: middle;\n",
       "    }\n",
       "\n",
       "    .dataframe tbody tr th {\n",
       "        vertical-align: top;\n",
       "    }\n",
       "\n",
       "    .dataframe thead th {\n",
       "        text-align: right;\n",
       "    }\n",
       "</style>\n",
       "<table border=\"1\" class=\"dataframe\">\n",
       "  <thead>\n",
       "    <tr style=\"text-align: right;\">\n",
       "      <th></th>\n",
       "      <th>Unnamed: 0</th>\n",
       "      <th>ItinID</th>\n",
       "      <th>MktID</th>\n",
       "      <th>MktCoupons</th>\n",
       "      <th>Quarter</th>\n",
       "      <th>Origin</th>\n",
       "      <th>OriginWac</th>\n",
       "      <th>Dest</th>\n",
       "      <th>DestWac</th>\n",
       "      <th>Miles</th>\n",
       "      <th>ContiguousUSA</th>\n",
       "      <th>NumTicketsOrdered</th>\n",
       "      <th>AirlineCompany</th>\n",
       "      <th>PricePerTicket</th>\n",
       "    </tr>\n",
       "  </thead>\n",
       "  <tbody>\n",
       "    <tr>\n",
       "      <th>0</th>\n",
       "      <td>0</td>\n",
       "      <td>2.018177e+10</td>\n",
       "      <td>2.018180e+12</td>\n",
       "      <td>1</td>\n",
       "      <td>1</td>\n",
       "      <td>PHL</td>\n",
       "      <td>23</td>\n",
       "      <td>LAX</td>\n",
       "      <td>91</td>\n",
       "      <td>2402</td>\n",
       "      <td>2</td>\n",
       "      <td>1</td>\n",
       "      <td>AA</td>\n",
       "      <td>672.87</td>\n",
       "    </tr>\n",
       "    <tr>\n",
       "      <th>1</th>\n",
       "      <td>1</td>\n",
       "      <td>2.018177e+10</td>\n",
       "      <td>2.018180e+12</td>\n",
       "      <td>1</td>\n",
       "      <td>1</td>\n",
       "      <td>PHL</td>\n",
       "      <td>23</td>\n",
       "      <td>LAX</td>\n",
       "      <td>91</td>\n",
       "      <td>2402</td>\n",
       "      <td>2</td>\n",
       "      <td>1</td>\n",
       "      <td>AA</td>\n",
       "      <td>367.68</td>\n",
       "    </tr>\n",
       "    <tr>\n",
       "      <th>2</th>\n",
       "      <td>2</td>\n",
       "      <td>2.018177e+10</td>\n",
       "      <td>2.018180e+12</td>\n",
       "      <td>1</td>\n",
       "      <td>1</td>\n",
       "      <td>PHL</td>\n",
       "      <td>23</td>\n",
       "      <td>LAX</td>\n",
       "      <td>91</td>\n",
       "      <td>2402</td>\n",
       "      <td>2</td>\n",
       "      <td>1</td>\n",
       "      <td>AA</td>\n",
       "      <td>417.94</td>\n",
       "    </tr>\n",
       "    <tr>\n",
       "      <th>3</th>\n",
       "      <td>3</td>\n",
       "      <td>2.018177e+10</td>\n",
       "      <td>2.018180e+12</td>\n",
       "      <td>1</td>\n",
       "      <td>1</td>\n",
       "      <td>PHL</td>\n",
       "      <td>23</td>\n",
       "      <td>LAX</td>\n",
       "      <td>91</td>\n",
       "      <td>2402</td>\n",
       "      <td>2</td>\n",
       "      <td>1</td>\n",
       "      <td>AA</td>\n",
       "      <td>247.10</td>\n",
       "    </tr>\n",
       "    <tr>\n",
       "      <th>4</th>\n",
       "      <td>4</td>\n",
       "      <td>2.018177e+10</td>\n",
       "      <td>2.018180e+12</td>\n",
       "      <td>1</td>\n",
       "      <td>1</td>\n",
       "      <td>PHL</td>\n",
       "      <td>23</td>\n",
       "      <td>LAX</td>\n",
       "      <td>91</td>\n",
       "      <td>2402</td>\n",
       "      <td>2</td>\n",
       "      <td>1</td>\n",
       "      <td>AA</td>\n",
       "      <td>276.35</td>\n",
       "    </tr>\n",
       "  </tbody>\n",
       "</table>\n",
       "</div>"
      ],
      "text/plain": [
       "   Unnamed: 0        ItinID         MktID  MktCoupons  Quarter Origin  \\\n",
       "0           0  2.018177e+10  2.018180e+12           1        1    PHL   \n",
       "1           1  2.018177e+10  2.018180e+12           1        1    PHL   \n",
       "2           2  2.018177e+10  2.018180e+12           1        1    PHL   \n",
       "3           3  2.018177e+10  2.018180e+12           1        1    PHL   \n",
       "4           4  2.018177e+10  2.018180e+12           1        1    PHL   \n",
       "\n",
       "   OriginWac Dest  DestWac  Miles  ContiguousUSA  NumTicketsOrdered  \\\n",
       "0         23  LAX       91   2402              2                  1   \n",
       "1         23  LAX       91   2402              2                  1   \n",
       "2         23  LAX       91   2402              2                  1   \n",
       "3         23  LAX       91   2402              2                  1   \n",
       "4         23  LAX       91   2402              2                  1   \n",
       "\n",
       "  AirlineCompany  PricePerTicket  \n",
       "0             AA          672.87  \n",
       "1             AA          367.68  \n",
       "2             AA          417.94  \n",
       "3             AA          247.10  \n",
       "4             AA          276.35  "
      ]
     },
     "execution_count": 13,
     "metadata": {},
     "output_type": "execute_result"
    }
   ],
   "source": [
    "flights_df.head()"
   ]
  },
  {
   "cell_type": "code",
   "execution_count": 14,
   "metadata": {},
   "outputs": [
    {
     "data": {
      "text/plain": [
       "Index(['Unnamed: 0', 'ItinID', 'MktID', 'MktCoupons', 'Quarter', 'Origin',\n",
       "       'OriginWac', 'Dest', 'DestWac', 'Miles', 'ContiguousUSA',\n",
       "       'NumTicketsOrdered', 'AirlineCompany', 'PricePerTicket'],\n",
       "      dtype='object')"
      ]
     },
     "execution_count": 14,
     "metadata": {},
     "output_type": "execute_result"
    }
   ],
   "source": [
    "flights_df.columns"
   ]
  },
  {
   "cell_type": "code",
   "execution_count": 15,
   "metadata": {},
   "outputs": [
    {
     "data": {
      "text/plain": [
       "(1048575, 14)"
      ]
     },
     "execution_count": 15,
     "metadata": {},
     "output_type": "execute_result"
    }
   ],
   "source": [
    "flights_df.shape"
   ]
  },
  {
   "cell_type": "code",
   "execution_count": null,
   "metadata": {},
   "outputs": [],
   "source": []
  },
  {
   "cell_type": "code",
   "execution_count": null,
   "metadata": {},
   "outputs": [],
   "source": []
  },
  {
   "cell_type": "markdown",
   "metadata": {},
   "source": [
    "## EDA:"
   ]
  },
  {
   "cell_type": "markdown",
   "metadata": {},
   "source": [
    "#### Aviation Accidents"
   ]
  },
  {
   "cell_type": "code",
   "execution_count": 65,
   "metadata": {},
   "outputs": [
    {
     "data": {
      "text/html": [
       "<div>\n",
       "<style scoped>\n",
       "    .dataframe tbody tr th:only-of-type {\n",
       "        vertical-align: middle;\n",
       "    }\n",
       "\n",
       "    .dataframe tbody tr th {\n",
       "        vertical-align: top;\n",
       "    }\n",
       "\n",
       "    .dataframe thead th {\n",
       "        text-align: right;\n",
       "    }\n",
       "</style>\n",
       "<table border=\"1\" class=\"dataframe\">\n",
       "  <thead>\n",
       "    <tr style=\"text-align: right;\">\n",
       "      <th></th>\n",
       "      <th>Event.Id</th>\n",
       "      <th>Investigation.Type</th>\n",
       "      <th>Accident.Number</th>\n",
       "      <th>Event.Date</th>\n",
       "      <th>Location</th>\n",
       "      <th>Country</th>\n",
       "      <th>Latitude</th>\n",
       "      <th>Longitude</th>\n",
       "      <th>Airport.Code</th>\n",
       "      <th>Airport.Name</th>\n",
       "      <th>...</th>\n",
       "      <th>Purpose.of.Flight</th>\n",
       "      <th>Air.Carrier</th>\n",
       "      <th>Total.Fatal.Injuries</th>\n",
       "      <th>Total.Serious.Injuries</th>\n",
       "      <th>Total.Minor.Injuries</th>\n",
       "      <th>Total.Uninjured</th>\n",
       "      <th>Weather.Condition</th>\n",
       "      <th>Broad.Phase.of.Flight</th>\n",
       "      <th>Report.Status</th>\n",
       "      <th>Publication.Date</th>\n",
       "    </tr>\n",
       "  </thead>\n",
       "  <tbody>\n",
       "    <tr>\n",
       "      <th>0</th>\n",
       "      <td>20200102X82407</td>\n",
       "      <td>Accident</td>\n",
       "      <td>WPR20CA055</td>\n",
       "      <td>2019-12-31</td>\n",
       "      <td>Elk, CA</td>\n",
       "      <td>United States</td>\n",
       "      <td>39.128611</td>\n",
       "      <td>-123.715833</td>\n",
       "      <td>LLR</td>\n",
       "      <td>Little River</td>\n",
       "      <td>...</td>\n",
       "      <td>Personal</td>\n",
       "      <td>NaN</td>\n",
       "      <td>NaN</td>\n",
       "      <td>NaN</td>\n",
       "      <td>NaN</td>\n",
       "      <td>1.0</td>\n",
       "      <td>VMC</td>\n",
       "      <td>TAKEOFF</td>\n",
       "      <td>Factual</td>\n",
       "      <td>13/01/2020</td>\n",
       "    </tr>\n",
       "  </tbody>\n",
       "</table>\n",
       "<p>1 rows × 31 columns</p>\n",
       "</div>"
      ],
      "text/plain": [
       "         Event.Id Investigation.Type Accident.Number Event.Date Location  \\\n",
       "0  20200102X82407           Accident      WPR20CA055 2019-12-31  Elk, CA   \n",
       "\n",
       "         Country   Latitude   Longitude Airport.Code  Airport.Name  \\\n",
       "0  United States  39.128611 -123.715833          LLR  Little River   \n",
       "\n",
       "        ...        Purpose.of.Flight Air.Carrier Total.Fatal.Injuries  \\\n",
       "0       ...                 Personal         NaN                  NaN   \n",
       "\n",
       "  Total.Serious.Injuries Total.Minor.Injuries Total.Uninjured  \\\n",
       "0                    NaN                  NaN             1.0   \n",
       "\n",
       "  Weather.Condition  Broad.Phase.of.Flight Report.Status Publication.Date  \n",
       "0               VMC                TAKEOFF       Factual       13/01/2020  \n",
       "\n",
       "[1 rows x 31 columns]"
      ]
     },
     "execution_count": 65,
     "metadata": {},
     "output_type": "execute_result"
    }
   ],
   "source": [
    "accident_df.head(1)"
   ]
  },
  {
   "cell_type": "code",
   "execution_count": 17,
   "metadata": {},
   "outputs": [
    {
     "data": {
      "text/plain": [
       "Index(['Event.Id', 'Investigation.Type', 'Accident.Number', 'Event.Date',\n",
       "       'Location', 'Country', 'Latitude', 'Longitude', 'Airport.Code',\n",
       "       'Airport.Name', 'Injury.Severity', 'Aircraft.Damage',\n",
       "       'Aircraft.Category', 'Registration.Number', 'Make', 'Model',\n",
       "       'Amateur.Built', 'Number.of.Engines', 'Engine.Type', 'FAR.Description',\n",
       "       'Schedule', 'Purpose.of.Flight', 'Air.Carrier', 'Total.Fatal.Injuries',\n",
       "       'Total.Serious.Injuries', 'Total.Minor.Injuries', 'Total.Uninjured',\n",
       "       'Weather.Condition', 'Broad.Phase.of.Flight', 'Report.Status',\n",
       "       'Publication.Date'],\n",
       "      dtype='object')"
      ]
     },
     "execution_count": 17,
     "metadata": {},
     "output_type": "execute_result"
    }
   ],
   "source": [
    "accident_df.columns"
   ]
  },
  {
   "cell_type": "code",
   "execution_count": 64,
   "metadata": {},
   "outputs": [
    {
     "data": {
      "text/plain": [
       "Event.Id                      0\n",
       "Investigation.Type            5\n",
       "Accident.Number               0\n",
       "Event.Date                    0\n",
       "Location                     77\n",
       "Country                     507\n",
       "Latitude                  54099\n",
       "Longitude                 54108\n",
       "Airport.Code              36539\n",
       "Airport.Name              33823\n",
       "Injury.Severity               0\n",
       "Aircraft.Damage            2709\n",
       "Aircraft.Category         56754\n",
       "Registration.Number        3850\n",
       "Make                         70\n",
       "Model                        99\n",
       "Amateur.Built               609\n",
       "Number.of.Engines          5034\n",
       "Engine.Type                4256\n",
       "FAR.Description           57056\n",
       "Schedule                  72419\n",
       "Purpose.of.Flight          4880\n",
       "Air.Carrier               80093\n",
       "Total.Fatal.Injuries      27203\n",
       "Total.Serious.Injuries    29878\n",
       "Total.Minor.Injuries      28670\n",
       "Total.Uninjured           14589\n",
       "Weather.Condition          3103\n",
       "Broad.Phase.of.Flight      6608\n",
       "Report.Status                 0\n",
       "Publication.Date          14315\n",
       "dtype: int64"
      ]
     },
     "execution_count": 64,
     "metadata": {},
     "output_type": "execute_result"
    }
   ],
   "source": [
    "accident_df.isnull().sum()"
   ]
  },
  {
   "cell_type": "code",
   "execution_count": 54,
   "metadata": {},
   "outputs": [
    {
     "data": {
      "text/plain": [
       "{'Accident', 'Incident', nan}"
      ]
     },
     "execution_count": 54,
     "metadata": {},
     "output_type": "execute_result"
    }
   ],
   "source": [
    "set(accident_df[\"Investigation.Type\"])"
   ]
  },
  {
   "cell_type": "code",
   "execution_count": 55,
   "metadata": {},
   "outputs": [
    {
     "data": {
      "text/html": [
       "<div>\n",
       "<style scoped>\n",
       "    .dataframe tbody tr th:only-of-type {\n",
       "        vertical-align: middle;\n",
       "    }\n",
       "\n",
       "    .dataframe tbody tr th {\n",
       "        vertical-align: top;\n",
       "    }\n",
       "\n",
       "    .dataframe thead th {\n",
       "        text-align: right;\n",
       "    }\n",
       "</style>\n",
       "<table border=\"1\" class=\"dataframe\">\n",
       "  <thead>\n",
       "    <tr style=\"text-align: right;\">\n",
       "      <th></th>\n",
       "      <th>Event.Id</th>\n",
       "    </tr>\n",
       "    <tr>\n",
       "      <th>Investigation.Type</th>\n",
       "      <th></th>\n",
       "    </tr>\n",
       "  </thead>\n",
       "  <tbody>\n",
       "    <tr>\n",
       "      <th>Accident</th>\n",
       "      <td>79757</td>\n",
       "    </tr>\n",
       "    <tr>\n",
       "      <th>Incident</th>\n",
       "      <td>3273</td>\n",
       "    </tr>\n",
       "  </tbody>\n",
       "</table>\n",
       "</div>"
      ],
      "text/plain": [
       "                    Event.Id\n",
       "Investigation.Type          \n",
       "Accident               79757\n",
       "Incident                3273"
      ]
     },
     "execution_count": 55,
     "metadata": {},
     "output_type": "execute_result"
    }
   ],
   "source": [
    "accident_df.groupby(['Investigation.Type'])[\"Event.Id\"].nunique().to_frame()"
   ]
  },
  {
   "cell_type": "code",
   "execution_count": 60,
   "metadata": {},
   "outputs": [
    {
     "data": {
      "text/html": [
       "<div>\n",
       "<style scoped>\n",
       "    .dataframe tbody tr th:only-of-type {\n",
       "        vertical-align: middle;\n",
       "    }\n",
       "\n",
       "    .dataframe tbody tr th {\n",
       "        vertical-align: top;\n",
       "    }\n",
       "\n",
       "    .dataframe thead th {\n",
       "        text-align: right;\n",
       "    }\n",
       "</style>\n",
       "<table border=\"1\" class=\"dataframe\">\n",
       "  <thead>\n",
       "    <tr style=\"text-align: right;\">\n",
       "      <th></th>\n",
       "      <th></th>\n",
       "      <th>Event.Id</th>\n",
       "    </tr>\n",
       "    <tr>\n",
       "      <th>Investigation.Type</th>\n",
       "      <th>Aircraft.Damage</th>\n",
       "      <th></th>\n",
       "    </tr>\n",
       "  </thead>\n",
       "  <tbody>\n",
       "    <tr>\n",
       "      <th rowspan=\"3\" valign=\"top\">Accident</th>\n",
       "      <th>Destroyed</th>\n",
       "      <td>17842</td>\n",
       "    </tr>\n",
       "    <tr>\n",
       "      <th>Minor</th>\n",
       "      <td>726</td>\n",
       "    </tr>\n",
       "    <tr>\n",
       "      <th>Substantial</th>\n",
       "      <td>60458</td>\n",
       "    </tr>\n",
       "    <tr>\n",
       "      <th rowspan=\"3\" valign=\"top\">Incident</th>\n",
       "      <th>Destroyed</th>\n",
       "      <td>9</td>\n",
       "    </tr>\n",
       "    <tr>\n",
       "      <th>Minor</th>\n",
       "      <td>1895</td>\n",
       "    </tr>\n",
       "    <tr>\n",
       "      <th>Substantial</th>\n",
       "      <td>35</td>\n",
       "    </tr>\n",
       "  </tbody>\n",
       "</table>\n",
       "</div>"
      ],
      "text/plain": [
       "                                    Event.Id\n",
       "Investigation.Type Aircraft.Damage          \n",
       "Accident           Destroyed           17842\n",
       "                   Minor                 726\n",
       "                   Substantial         60458\n",
       "Incident           Destroyed               9\n",
       "                   Minor                1895\n",
       "                   Substantial            35"
      ]
     },
     "execution_count": 60,
     "metadata": {},
     "output_type": "execute_result"
    }
   ],
   "source": [
    "accident_df.groupby(['Investigation.Type', 'Aircraft.Damage'])[\"Event.Id\"].nunique().to_frame()"
   ]
  },
  {
   "cell_type": "code",
   "execution_count": 67,
   "metadata": {},
   "outputs": [
    {
     "data": {
      "text/html": [
       "<div>\n",
       "<style scoped>\n",
       "    .dataframe tbody tr th:only-of-type {\n",
       "        vertical-align: middle;\n",
       "    }\n",
       "\n",
       "    .dataframe tbody tr th {\n",
       "        vertical-align: top;\n",
       "    }\n",
       "\n",
       "    .dataframe thead th {\n",
       "        text-align: right;\n",
       "    }\n",
       "</style>\n",
       "<table border=\"1\" class=\"dataframe\">\n",
       "  <thead>\n",
       "    <tr style=\"text-align: right;\">\n",
       "      <th></th>\n",
       "      <th></th>\n",
       "      <th>Event.Id</th>\n",
       "    </tr>\n",
       "    <tr>\n",
       "      <th>Investigation.Type</th>\n",
       "      <th>Injury.Severity</th>\n",
       "      <th></th>\n",
       "    </tr>\n",
       "  </thead>\n",
       "  <tbody>\n",
       "    <tr>\n",
       "      <th rowspan=\"5\" valign=\"top\">Accident</th>\n",
       "      <th>Fatal(1)</th>\n",
       "      <td>8280</td>\n",
       "    </tr>\n",
       "    <tr>\n",
       "      <th>Fatal(10)</th>\n",
       "      <td>43</td>\n",
       "    </tr>\n",
       "    <tr>\n",
       "      <th>Fatal(102)</th>\n",
       "      <td>2</td>\n",
       "    </tr>\n",
       "    <tr>\n",
       "      <th>Fatal(103)</th>\n",
       "      <td>1</td>\n",
       "    </tr>\n",
       "    <tr>\n",
       "      <th>Fatal(104)</th>\n",
       "      <td>2</td>\n",
       "    </tr>\n",
       "  </tbody>\n",
       "</table>\n",
       "</div>"
      ],
      "text/plain": [
       "                                    Event.Id\n",
       "Investigation.Type Injury.Severity          \n",
       "Accident           Fatal(1)             8280\n",
       "                   Fatal(10)              43\n",
       "                   Fatal(102)              2\n",
       "                   Fatal(103)              1\n",
       "                   Fatal(104)              2"
      ]
     },
     "execution_count": 67,
     "metadata": {},
     "output_type": "execute_result"
    }
   ],
   "source": [
    "accident_df.groupby(['Investigation.Type', 'Injury.Severity'])[\"Event.Id\"].nunique().to_frame().head()"
   ]
  },
  {
   "cell_type": "code",
   "execution_count": 66,
   "metadata": {},
   "outputs": [
    {
     "data": {
      "text/html": [
       "<div>\n",
       "<style scoped>\n",
       "    .dataframe tbody tr th:only-of-type {\n",
       "        vertical-align: middle;\n",
       "    }\n",
       "\n",
       "    .dataframe tbody tr th {\n",
       "        vertical-align: top;\n",
       "    }\n",
       "\n",
       "    .dataframe thead th {\n",
       "        text-align: right;\n",
       "    }\n",
       "</style>\n",
       "<table border=\"1\" class=\"dataframe\">\n",
       "  <thead>\n",
       "    <tr style=\"text-align: right;\">\n",
       "      <th></th>\n",
       "      <th></th>\n",
       "      <th>Event.Id</th>\n",
       "    </tr>\n",
       "    <tr>\n",
       "      <th>Investigation.Type</th>\n",
       "      <th>Injury.Severity</th>\n",
       "      <th></th>\n",
       "    </tr>\n",
       "  </thead>\n",
       "  <tbody>\n",
       "    <tr>\n",
       "      <th rowspan=\"4\" valign=\"top\">Accident</th>\n",
       "      <th>Fatal(96)</th>\n",
       "      <td>1</td>\n",
       "    </tr>\n",
       "    <tr>\n",
       "      <th>Fatal(97)</th>\n",
       "      <td>2</td>\n",
       "    </tr>\n",
       "    <tr>\n",
       "      <th>Non-Fatal</th>\n",
       "      <td>62828</td>\n",
       "    </tr>\n",
       "    <tr>\n",
       "      <th>Unavailable</th>\n",
       "      <td>315</td>\n",
       "    </tr>\n",
       "    <tr>\n",
       "      <th>Incident</th>\n",
       "      <th>Incident</th>\n",
       "      <td>3273</td>\n",
       "    </tr>\n",
       "  </tbody>\n",
       "</table>\n",
       "</div>"
      ],
      "text/plain": [
       "                                    Event.Id\n",
       "Investigation.Type Injury.Severity          \n",
       "Accident           Fatal(96)               1\n",
       "                   Fatal(97)               2\n",
       "                   Non-Fatal           62828\n",
       "                   Unavailable           315\n",
       "Incident           Incident             3273"
      ]
     },
     "execution_count": 66,
     "metadata": {},
     "output_type": "execute_result"
    }
   ],
   "source": [
    "accident_df.groupby(['Investigation.Type', 'Injury.Severity'])[\"Event.Id\"].nunique().to_frame().tail()"
   ]
  },
  {
   "cell_type": "markdown",
   "metadata": {},
   "source": [
    "#### Conclusions from Aviation data exploration:\n",
    "\n",
    "- should clean the nan from Investigation.Type\n",
    "- all incidents involved no injuries\n",
    "- Injury.Severity could be further cleaned for Fatal\n",
    "- Event.Id can serve as primary key\n",
    "- need to filter for 2018 only\n",
    "- need to standardize some fields"
   ]
  },
  {
   "cell_type": "code",
   "execution_count": null,
   "metadata": {},
   "outputs": [],
   "source": []
  },
  {
   "cell_type": "markdown",
   "metadata": {},
   "source": [
    "### Weather Events"
   ]
  },
  {
   "cell_type": "code",
   "execution_count": 76,
   "metadata": {},
   "outputs": [
    {
     "data": {
      "text/html": [
       "<div>\n",
       "<style scoped>\n",
       "    .dataframe tbody tr th:only-of-type {\n",
       "        vertical-align: middle;\n",
       "    }\n",
       "\n",
       "    .dataframe tbody tr th {\n",
       "        vertical-align: top;\n",
       "    }\n",
       "\n",
       "    .dataframe thead th {\n",
       "        text-align: right;\n",
       "    }\n",
       "</style>\n",
       "<table border=\"1\" class=\"dataframe\">\n",
       "  <thead>\n",
       "    <tr style=\"text-align: right;\">\n",
       "      <th></th>\n",
       "      <th>EventId</th>\n",
       "      <th>Type</th>\n",
       "      <th>Severity</th>\n",
       "      <th>StartTime(UTC)</th>\n",
       "      <th>EndTime(UTC)</th>\n",
       "      <th>TimeZone</th>\n",
       "      <th>AirportCode</th>\n",
       "      <th>LocationLat</th>\n",
       "      <th>LocationLng</th>\n",
       "      <th>City</th>\n",
       "      <th>County</th>\n",
       "      <th>State</th>\n",
       "      <th>ZipCode</th>\n",
       "    </tr>\n",
       "  </thead>\n",
       "  <tbody>\n",
       "    <tr>\n",
       "      <th>0</th>\n",
       "      <td>W-1</td>\n",
       "      <td>Snow</td>\n",
       "      <td>Light</td>\n",
       "      <td>1/6/2016 23:14</td>\n",
       "      <td>2016-01-07 00:34:00</td>\n",
       "      <td>US/Mountain</td>\n",
       "      <td>K04V</td>\n",
       "      <td>38.0972</td>\n",
       "      <td>-106.1689</td>\n",
       "      <td>Saguache</td>\n",
       "      <td>Saguache</td>\n",
       "      <td>CO</td>\n",
       "      <td>81149.0</td>\n",
       "    </tr>\n",
       "    <tr>\n",
       "      <th>1</th>\n",
       "      <td>W-2</td>\n",
       "      <td>Snow</td>\n",
       "      <td>Light</td>\n",
       "      <td>1/7/2016 4:14</td>\n",
       "      <td>2016-01-07 04:54:00</td>\n",
       "      <td>US/Mountain</td>\n",
       "      <td>K04V</td>\n",
       "      <td>38.0972</td>\n",
       "      <td>-106.1689</td>\n",
       "      <td>Saguache</td>\n",
       "      <td>Saguache</td>\n",
       "      <td>CO</td>\n",
       "      <td>81149.0</td>\n",
       "    </tr>\n",
       "    <tr>\n",
       "      <th>2</th>\n",
       "      <td>W-3</td>\n",
       "      <td>Snow</td>\n",
       "      <td>Light</td>\n",
       "      <td>1/7/2016 5:54</td>\n",
       "      <td>2016-01-07 15:34:00</td>\n",
       "      <td>US/Mountain</td>\n",
       "      <td>K04V</td>\n",
       "      <td>38.0972</td>\n",
       "      <td>-106.1689</td>\n",
       "      <td>Saguache</td>\n",
       "      <td>Saguache</td>\n",
       "      <td>CO</td>\n",
       "      <td>81149.0</td>\n",
       "    </tr>\n",
       "    <tr>\n",
       "      <th>3</th>\n",
       "      <td>W-4</td>\n",
       "      <td>Snow</td>\n",
       "      <td>Light</td>\n",
       "      <td>1/8/2016 5:34</td>\n",
       "      <td>2016-01-08 05:54:00</td>\n",
       "      <td>US/Mountain</td>\n",
       "      <td>K04V</td>\n",
       "      <td>38.0972</td>\n",
       "      <td>-106.1689</td>\n",
       "      <td>Saguache</td>\n",
       "      <td>Saguache</td>\n",
       "      <td>CO</td>\n",
       "      <td>81149.0</td>\n",
       "    </tr>\n",
       "    <tr>\n",
       "      <th>4</th>\n",
       "      <td>W-5</td>\n",
       "      <td>Snow</td>\n",
       "      <td>Light</td>\n",
       "      <td>1/8/2016 13:54</td>\n",
       "      <td>2016-01-08 15:54:00</td>\n",
       "      <td>US/Mountain</td>\n",
       "      <td>K04V</td>\n",
       "      <td>38.0972</td>\n",
       "      <td>-106.1689</td>\n",
       "      <td>Saguache</td>\n",
       "      <td>Saguache</td>\n",
       "      <td>CO</td>\n",
       "      <td>81149.0</td>\n",
       "    </tr>\n",
       "  </tbody>\n",
       "</table>\n",
       "</div>"
      ],
      "text/plain": [
       "  EventId  Type Severity  StartTime(UTC)        EndTime(UTC)     TimeZone  \\\n",
       "0     W-1  Snow    Light  1/6/2016 23:14 2016-01-07 00:34:00  US/Mountain   \n",
       "1     W-2  Snow    Light   1/7/2016 4:14 2016-01-07 04:54:00  US/Mountain   \n",
       "2     W-3  Snow    Light   1/7/2016 5:54 2016-01-07 15:34:00  US/Mountain   \n",
       "3     W-4  Snow    Light   1/8/2016 5:34 2016-01-08 05:54:00  US/Mountain   \n",
       "4     W-5  Snow    Light  1/8/2016 13:54 2016-01-08 15:54:00  US/Mountain   \n",
       "\n",
       "  AirportCode  LocationLat  LocationLng      City    County State  ZipCode  \n",
       "0        K04V      38.0972    -106.1689  Saguache  Saguache    CO  81149.0  \n",
       "1        K04V      38.0972    -106.1689  Saguache  Saguache    CO  81149.0  \n",
       "2        K04V      38.0972    -106.1689  Saguache  Saguache    CO  81149.0  \n",
       "3        K04V      38.0972    -106.1689  Saguache  Saguache    CO  81149.0  \n",
       "4        K04V      38.0972    -106.1689  Saguache  Saguache    CO  81149.0  "
      ]
     },
     "execution_count": 76,
     "metadata": {},
     "output_type": "execute_result"
    }
   ],
   "source": [
    "us_weather_events_df.head()"
   ]
  },
  {
   "cell_type": "code",
   "execution_count": 77,
   "metadata": {},
   "outputs": [
    {
     "data": {
      "text/plain": [
       "(279428, 13)"
      ]
     },
     "execution_count": 77,
     "metadata": {},
     "output_type": "execute_result"
    }
   ],
   "source": [
    "us_weather_events_2018_df.shape"
   ]
  },
  {
   "cell_type": "code",
   "execution_count": 78,
   "metadata": {},
   "outputs": [
    {
     "data": {
      "text/plain": [
       "{'US/Central', 'US/Eastern', 'US/Mountain', 'US/Pacific'}"
      ]
     },
     "execution_count": 78,
     "metadata": {},
     "output_type": "execute_result"
    }
   ],
   "source": [
    "set(us_weather_events_2018_df.TimeZone)"
   ]
  },
  {
   "cell_type": "code",
   "execution_count": 79,
   "metadata": {},
   "outputs": [
    {
     "data": {
      "text/plain": [
       "{'Cold', 'Fog', 'Hail', 'Precipitation', 'Rain', 'Snow', 'Storm'}"
      ]
     },
     "execution_count": 79,
     "metadata": {},
     "output_type": "execute_result"
    }
   ],
   "source": [
    "set(us_weather_events_2018_df.Type)"
   ]
  },
  {
   "cell_type": "code",
   "execution_count": 80,
   "metadata": {},
   "outputs": [
    {
     "data": {
      "text/plain": [
       "{'Heavy', 'Light', 'Moderate', 'Other', 'Severe', 'UNK'}"
      ]
     },
     "execution_count": 80,
     "metadata": {},
     "output_type": "execute_result"
    }
   ],
   "source": [
    "set(us_weather_events_2018_df.Severity)"
   ]
  },
  {
   "cell_type": "markdown",
   "metadata": {},
   "source": [
    "#### Conclusions from Weather data exploration:\n",
    "\n",
    "- dataset is fairly clean\n",
    "- need to filter for 2018 only\n",
    "- can probably key on AirportCode\n",
    "- EventId can serve as primary key"
   ]
  },
  {
   "cell_type": "code",
   "execution_count": null,
   "metadata": {},
   "outputs": [],
   "source": []
  },
  {
   "cell_type": "markdown",
   "metadata": {},
   "source": [
    "## Preprocessing:"
   ]
  },
  {
   "cell_type": "markdown",
   "metadata": {},
   "source": [
    "#### Aviation Accident Preprocessing Goals:\n",
    "- events taking place in 2018\n",
    "- events taking place in the United States\n",
    "- standardize fields:\n",
    "    - Make\n",
    "    - Model\n",
    "    - Injury.Severity\n",
    "    - State/Location"
   ]
  },
  {
   "cell_type": "code",
   "execution_count": 194,
   "metadata": {},
   "outputs": [],
   "source": [
    "def preprocess_accident_data(accident_df):\n",
    "    \"\"\"Preprocess raw accident data df.\"\"\"\n",
    "    # clean date field\n",
    "    accident_df['Event.Date'] = pd.to_datetime(accident_df['Event.Date'])\n",
    "    # filter for 2018\n",
    "    accidents_2018 = accident_df[accident_df['Event.Date'].dt.year == 2018]\n",
    "    # filter for US based events\n",
    "    us_accidents_2018 = accidents_2018[accidents_2018['Country']=='United States']\n",
    "    # standardize Make/Model fields\n",
    "    us_accidents_2018['Make'] = us_accidents_2018['Make'].str.lower()\n",
    "    us_accidents_2018['Model'] = us_accidents_2018['Model'].str.lower()\n",
    "    # create State field\n",
    "    us_accidents_2018['State'] = us_accidents_2018['Location'].str[-2:]\n",
    "    \n",
    "    # drop unnecessary features\n",
    "    del us_accidents_2018['Country']\n",
    "    del us_accidents_2018['Location']\n",
    "    del us_accidents_2018['Latitude']\n",
    "    del us_accidents_2018['Longitude']\n",
    "    del us_accidents_2018['Airport.Name']\n",
    "    del us_accidents_2018['Report.Status']\n",
    "    del us_accidents_2018['Publication.Date']\n",
    "    del us_accidents_2018['Schedule']\n",
    "    del us_accidents_2018['Registration.Number']\n",
    "    del us_accidents_2018['Accident.Number']\n",
    "    del us_accidents_2018['Investigation.Type']\n",
    "    del us_accidents_2018['Total.Fatal.Injuries']\n",
    "    del us_accidents_2018['Total.Serious.Injuries']\n",
    "    del us_accidents_2018['Total.Minor.Injuries']\n",
    "    del us_accidents_2018['Total.Uninjured']\n",
    "    \n",
    "    # type cast date as string for merge\n",
    "    us_accidents_2018['Event.Date'] = us_accidents_2018['Event.Date'].astype(str)\n",
    "    \n",
    "    return us_accidents_2018"
   ]
  },
  {
   "cell_type": "code",
   "execution_count": null,
   "metadata": {},
   "outputs": [],
   "source": []
  },
  {
   "cell_type": "code",
   "execution_count": 195,
   "metadata": {},
   "outputs": [
    {
     "name": "stderr",
     "output_type": "stream",
     "text": [
      "c:\\users\\thoma\\appdata\\local\\programs\\python\\python36\\lib\\site-packages\\ipykernel_launcher.py:10: SettingWithCopyWarning: \n",
      "A value is trying to be set on a copy of a slice from a DataFrame.\n",
      "Try using .loc[row_indexer,col_indexer] = value instead\n",
      "\n",
      "See the caveats in the documentation: http://pandas.pydata.org/pandas-docs/stable/indexing.html#indexing-view-versus-copy\n",
      "  # Remove the CWD from sys.path while we load stuff.\n",
      "c:\\users\\thoma\\appdata\\local\\programs\\python\\python36\\lib\\site-packages\\ipykernel_launcher.py:11: SettingWithCopyWarning: \n",
      "A value is trying to be set on a copy of a slice from a DataFrame.\n",
      "Try using .loc[row_indexer,col_indexer] = value instead\n",
      "\n",
      "See the caveats in the documentation: http://pandas.pydata.org/pandas-docs/stable/indexing.html#indexing-view-versus-copy\n",
      "  # This is added back by InteractiveShellApp.init_path()\n",
      "c:\\users\\thoma\\appdata\\local\\programs\\python\\python36\\lib\\site-packages\\ipykernel_launcher.py:13: SettingWithCopyWarning: \n",
      "A value is trying to be set on a copy of a slice from a DataFrame.\n",
      "Try using .loc[row_indexer,col_indexer] = value instead\n",
      "\n",
      "See the caveats in the documentation: http://pandas.pydata.org/pandas-docs/stable/indexing.html#indexing-view-versus-copy\n",
      "  del sys.path[0]\n",
      "c:\\users\\thoma\\appdata\\local\\programs\\python\\python36\\lib\\site-packages\\ipykernel_launcher.py:33: SettingWithCopyWarning: \n",
      "A value is trying to be set on a copy of a slice from a DataFrame.\n",
      "Try using .loc[row_indexer,col_indexer] = value instead\n",
      "\n",
      "See the caveats in the documentation: http://pandas.pydata.org/pandas-docs/stable/indexing.html#indexing-view-versus-copy\n"
     ]
    }
   ],
   "source": [
    "us_accidents_2018 = preprocess_accident_data(accident_df)"
   ]
  },
  {
   "cell_type": "code",
   "execution_count": 196,
   "metadata": {},
   "outputs": [
    {
     "data": {
      "text/html": [
       "<div>\n",
       "<style scoped>\n",
       "    .dataframe tbody tr th:only-of-type {\n",
       "        vertical-align: middle;\n",
       "    }\n",
       "\n",
       "    .dataframe tbody tr th {\n",
       "        vertical-align: top;\n",
       "    }\n",
       "\n",
       "    .dataframe thead th {\n",
       "        text-align: right;\n",
       "    }\n",
       "</style>\n",
       "<table border=\"1\" class=\"dataframe\">\n",
       "  <thead>\n",
       "    <tr style=\"text-align: right;\">\n",
       "      <th></th>\n",
       "      <th>Event.Id</th>\n",
       "      <th>Event.Date</th>\n",
       "      <th>Airport.Code</th>\n",
       "      <th>Injury.Severity</th>\n",
       "      <th>Aircraft.Damage</th>\n",
       "      <th>Aircraft.Category</th>\n",
       "      <th>Make</th>\n",
       "      <th>Model</th>\n",
       "      <th>Amateur.Built</th>\n",
       "      <th>Number.of.Engines</th>\n",
       "      <th>Engine.Type</th>\n",
       "      <th>FAR.Description</th>\n",
       "      <th>Purpose.of.Flight</th>\n",
       "      <th>Air.Carrier</th>\n",
       "      <th>Weather.Condition</th>\n",
       "      <th>Broad.Phase.of.Flight</th>\n",
       "      <th>State</th>\n",
       "    </tr>\n",
       "  </thead>\n",
       "  <tbody>\n",
       "    <tr>\n",
       "      <th>1479</th>\n",
       "      <td>20181231X63848</td>\n",
       "      <td>2018-12-31</td>\n",
       "      <td>KCLT</td>\n",
       "      <td>Non-Fatal</td>\n",
       "      <td>Substantial</td>\n",
       "      <td>Airplane</td>\n",
       "      <td>boeing</td>\n",
       "      <td>757</td>\n",
       "      <td>No</td>\n",
       "      <td>2.0</td>\n",
       "      <td>NaN</td>\n",
       "      <td>Part 121: Air Carrier</td>\n",
       "      <td>NaN</td>\n",
       "      <td>American Airlines</td>\n",
       "      <td>IMC</td>\n",
       "      <td>NaN</td>\n",
       "      <td>NC</td>\n",
       "    </tr>\n",
       "    <tr>\n",
       "      <th>1480</th>\n",
       "      <td>20190108X15022</td>\n",
       "      <td>2018-12-30</td>\n",
       "      <td>KMYF</td>\n",
       "      <td>Non-Fatal</td>\n",
       "      <td>Substantial</td>\n",
       "      <td>Airplane</td>\n",
       "      <td>piper</td>\n",
       "      <td>pa46</td>\n",
       "      <td>No</td>\n",
       "      <td>1.0</td>\n",
       "      <td>Reciprocating</td>\n",
       "      <td>Part 91: General Aviation</td>\n",
       "      <td>Personal</td>\n",
       "      <td>NaN</td>\n",
       "      <td>VMC</td>\n",
       "      <td>LANDING</td>\n",
       "      <td>CA</td>\n",
       "    </tr>\n",
       "    <tr>\n",
       "      <th>1481</th>\n",
       "      <td>20181231X83429</td>\n",
       "      <td>2018-12-30</td>\n",
       "      <td>CDW</td>\n",
       "      <td>Non-Fatal</td>\n",
       "      <td>Substantial</td>\n",
       "      <td>Airplane</td>\n",
       "      <td>cessna</td>\n",
       "      <td>172</td>\n",
       "      <td>No</td>\n",
       "      <td>1.0</td>\n",
       "      <td>Reciprocating</td>\n",
       "      <td>Part 91: General Aviation</td>\n",
       "      <td>Instructional</td>\n",
       "      <td>NaN</td>\n",
       "      <td>VMC</td>\n",
       "      <td>TAKEOFF</td>\n",
       "      <td>NJ</td>\n",
       "    </tr>\n",
       "    <tr>\n",
       "      <th>1482</th>\n",
       "      <td>20181231X83152</td>\n",
       "      <td>2018-12-30</td>\n",
       "      <td>X04</td>\n",
       "      <td>Non-Fatal</td>\n",
       "      <td>Substantial</td>\n",
       "      <td>Airplane</td>\n",
       "      <td>cessna</td>\n",
       "      <td>lc41</td>\n",
       "      <td>No</td>\n",
       "      <td>NaN</td>\n",
       "      <td>Reciprocating</td>\n",
       "      <td>Part 91: General Aviation</td>\n",
       "      <td>Personal</td>\n",
       "      <td>NaN</td>\n",
       "      <td>VMC</td>\n",
       "      <td>GO-AROUND</td>\n",
       "      <td>FL</td>\n",
       "    </tr>\n",
       "    <tr>\n",
       "      <th>1483</th>\n",
       "      <td>20181231X45242</td>\n",
       "      <td>2018-12-30</td>\n",
       "      <td>SJX</td>\n",
       "      <td>Fatal(1)</td>\n",
       "      <td>Substantial</td>\n",
       "      <td>Airplane</td>\n",
       "      <td>piper</td>\n",
       "      <td>pa 23</td>\n",
       "      <td>No</td>\n",
       "      <td>2.0</td>\n",
       "      <td>Reciprocating</td>\n",
       "      <td>Part 91: General Aviation</td>\n",
       "      <td>Personal</td>\n",
       "      <td>NaN</td>\n",
       "      <td>VMC</td>\n",
       "      <td>TAKEOFF</td>\n",
       "      <td>MI</td>\n",
       "    </tr>\n",
       "  </tbody>\n",
       "</table>\n",
       "</div>"
      ],
      "text/plain": [
       "            Event.Id  Event.Date Airport.Code Injury.Severity Aircraft.Damage  \\\n",
       "1479  20181231X63848  2018-12-31         KCLT       Non-Fatal     Substantial   \n",
       "1480  20190108X15022  2018-12-30         KMYF       Non-Fatal     Substantial   \n",
       "1481  20181231X83429  2018-12-30          CDW       Non-Fatal     Substantial   \n",
       "1482  20181231X83152  2018-12-30          X04       Non-Fatal     Substantial   \n",
       "1483  20181231X45242  2018-12-30          SJX        Fatal(1)     Substantial   \n",
       "\n",
       "     Aircraft.Category    Make  Model Amateur.Built  Number.of.Engines  \\\n",
       "1479          Airplane  boeing    757            No                2.0   \n",
       "1480          Airplane   piper   pa46            No                1.0   \n",
       "1481          Airplane  cessna    172            No                1.0   \n",
       "1482          Airplane  cessna   lc41            No                NaN   \n",
       "1483          Airplane   piper  pa 23            No                2.0   \n",
       "\n",
       "        Engine.Type            FAR.Description Purpose.of.Flight  \\\n",
       "1479            NaN      Part 121: Air Carrier               NaN   \n",
       "1480  Reciprocating  Part 91: General Aviation          Personal   \n",
       "1481  Reciprocating  Part 91: General Aviation     Instructional   \n",
       "1482  Reciprocating  Part 91: General Aviation          Personal   \n",
       "1483  Reciprocating  Part 91: General Aviation          Personal   \n",
       "\n",
       "            Air.Carrier Weather.Condition Broad.Phase.of.Flight State  \n",
       "1479  American Airlines               IMC                   NaN    NC  \n",
       "1480                NaN               VMC               LANDING    CA  \n",
       "1481                NaN               VMC               TAKEOFF    NJ  \n",
       "1482                NaN               VMC             GO-AROUND    FL  \n",
       "1483                NaN               VMC               TAKEOFF    MI  "
      ]
     },
     "execution_count": 196,
     "metadata": {},
     "output_type": "execute_result"
    }
   ],
   "source": [
    "us_accidents_2018.head()"
   ]
  },
  {
   "cell_type": "code",
   "execution_count": 165,
   "metadata": {},
   "outputs": [
    {
     "data": {
      "text/plain": [
       "Index(['Event.Id', 'Event.Date', 'Airport.Code', 'Injury.Severity',\n",
       "       'Aircraft.Damage', 'Aircraft.Category', 'Make', 'Model',\n",
       "       'Amateur.Built', 'Number.of.Engines', 'Engine.Type', 'FAR.Description',\n",
       "       'Purpose.of.Flight', 'Air.Carrier', 'Weather.Condition',\n",
       "       'Broad.Phase.of.Flight', 'State'],\n",
       "      dtype='object')"
      ]
     },
     "execution_count": 165,
     "metadata": {},
     "output_type": "execute_result"
    }
   ],
   "source": [
    "us_accidents_2018.columns"
   ]
  },
  {
   "cell_type": "code",
   "execution_count": 166,
   "metadata": {},
   "outputs": [
    {
     "data": {
      "text/plain": [
       "(1356, 17)"
      ]
     },
     "execution_count": 166,
     "metadata": {},
     "output_type": "execute_result"
    }
   ],
   "source": [
    "us_accidents_2018.shape"
   ]
  },
  {
   "cell_type": "code",
   "execution_count": null,
   "metadata": {},
   "outputs": [],
   "source": []
  },
  {
   "cell_type": "markdown",
   "metadata": {},
   "source": [
    "#### US Weather Events Preprocessing Goals:\n",
    "- standardize datetime fields\n",
    "- filter for events in 2018"
   ]
  },
  {
   "cell_type": "code",
   "execution_count": 25,
   "metadata": {},
   "outputs": [
    {
     "data": {
      "text/html": [
       "<div>\n",
       "<style scoped>\n",
       "    .dataframe tbody tr th:only-of-type {\n",
       "        vertical-align: middle;\n",
       "    }\n",
       "\n",
       "    .dataframe tbody tr th {\n",
       "        vertical-align: top;\n",
       "    }\n",
       "\n",
       "    .dataframe thead th {\n",
       "        text-align: right;\n",
       "    }\n",
       "</style>\n",
       "<table border=\"1\" class=\"dataframe\">\n",
       "  <thead>\n",
       "    <tr style=\"text-align: right;\">\n",
       "      <th></th>\n",
       "      <th>EventId</th>\n",
       "      <th>Type</th>\n",
       "      <th>Severity</th>\n",
       "      <th>StartTime(UTC)</th>\n",
       "      <th>EndTime(UTC)</th>\n",
       "      <th>TimeZone</th>\n",
       "      <th>AirportCode</th>\n",
       "      <th>LocationLat</th>\n",
       "      <th>LocationLng</th>\n",
       "      <th>City</th>\n",
       "      <th>County</th>\n",
       "      <th>State</th>\n",
       "      <th>ZipCode</th>\n",
       "    </tr>\n",
       "  </thead>\n",
       "  <tbody>\n",
       "    <tr>\n",
       "      <th>0</th>\n",
       "      <td>W-1</td>\n",
       "      <td>Snow</td>\n",
       "      <td>Light</td>\n",
       "      <td>1/6/2016 23:14</td>\n",
       "      <td>1/7/2016 0:34</td>\n",
       "      <td>US/Mountain</td>\n",
       "      <td>K04V</td>\n",
       "      <td>38.0972</td>\n",
       "      <td>-106.1689</td>\n",
       "      <td>Saguache</td>\n",
       "      <td>Saguache</td>\n",
       "      <td>CO</td>\n",
       "      <td>81149.0</td>\n",
       "    </tr>\n",
       "    <tr>\n",
       "      <th>1</th>\n",
       "      <td>W-2</td>\n",
       "      <td>Snow</td>\n",
       "      <td>Light</td>\n",
       "      <td>1/7/2016 4:14</td>\n",
       "      <td>1/7/2016 4:54</td>\n",
       "      <td>US/Mountain</td>\n",
       "      <td>K04V</td>\n",
       "      <td>38.0972</td>\n",
       "      <td>-106.1689</td>\n",
       "      <td>Saguache</td>\n",
       "      <td>Saguache</td>\n",
       "      <td>CO</td>\n",
       "      <td>81149.0</td>\n",
       "    </tr>\n",
       "    <tr>\n",
       "      <th>2</th>\n",
       "      <td>W-3</td>\n",
       "      <td>Snow</td>\n",
       "      <td>Light</td>\n",
       "      <td>1/7/2016 5:54</td>\n",
       "      <td>1/7/2016 15:34</td>\n",
       "      <td>US/Mountain</td>\n",
       "      <td>K04V</td>\n",
       "      <td>38.0972</td>\n",
       "      <td>-106.1689</td>\n",
       "      <td>Saguache</td>\n",
       "      <td>Saguache</td>\n",
       "      <td>CO</td>\n",
       "      <td>81149.0</td>\n",
       "    </tr>\n",
       "    <tr>\n",
       "      <th>3</th>\n",
       "      <td>W-4</td>\n",
       "      <td>Snow</td>\n",
       "      <td>Light</td>\n",
       "      <td>1/8/2016 5:34</td>\n",
       "      <td>1/8/2016 5:54</td>\n",
       "      <td>US/Mountain</td>\n",
       "      <td>K04V</td>\n",
       "      <td>38.0972</td>\n",
       "      <td>-106.1689</td>\n",
       "      <td>Saguache</td>\n",
       "      <td>Saguache</td>\n",
       "      <td>CO</td>\n",
       "      <td>81149.0</td>\n",
       "    </tr>\n",
       "    <tr>\n",
       "      <th>4</th>\n",
       "      <td>W-5</td>\n",
       "      <td>Snow</td>\n",
       "      <td>Light</td>\n",
       "      <td>1/8/2016 13:54</td>\n",
       "      <td>1/8/2016 15:54</td>\n",
       "      <td>US/Mountain</td>\n",
       "      <td>K04V</td>\n",
       "      <td>38.0972</td>\n",
       "      <td>-106.1689</td>\n",
       "      <td>Saguache</td>\n",
       "      <td>Saguache</td>\n",
       "      <td>CO</td>\n",
       "      <td>81149.0</td>\n",
       "    </tr>\n",
       "  </tbody>\n",
       "</table>\n",
       "</div>"
      ],
      "text/plain": [
       "  EventId  Type Severity  StartTime(UTC)    EndTime(UTC)     TimeZone  \\\n",
       "0     W-1  Snow    Light  1/6/2016 23:14   1/7/2016 0:34  US/Mountain   \n",
       "1     W-2  Snow    Light   1/7/2016 4:14   1/7/2016 4:54  US/Mountain   \n",
       "2     W-3  Snow    Light   1/7/2016 5:54  1/7/2016 15:34  US/Mountain   \n",
       "3     W-4  Snow    Light   1/8/2016 5:34   1/8/2016 5:54  US/Mountain   \n",
       "4     W-5  Snow    Light  1/8/2016 13:54  1/8/2016 15:54  US/Mountain   \n",
       "\n",
       "  AirportCode  LocationLat  LocationLng      City    County State  ZipCode  \n",
       "0        K04V      38.0972    -106.1689  Saguache  Saguache    CO  81149.0  \n",
       "1        K04V      38.0972    -106.1689  Saguache  Saguache    CO  81149.0  \n",
       "2        K04V      38.0972    -106.1689  Saguache  Saguache    CO  81149.0  \n",
       "3        K04V      38.0972    -106.1689  Saguache  Saguache    CO  81149.0  \n",
       "4        K04V      38.0972    -106.1689  Saguache  Saguache    CO  81149.0  "
      ]
     },
     "execution_count": 25,
     "metadata": {},
     "output_type": "execute_result"
    }
   ],
   "source": [
    "us_weather_events_df.head()"
   ]
  },
  {
   "cell_type": "code",
   "execution_count": 197,
   "metadata": {},
   "outputs": [],
   "source": [
    "def preprocess_weather_events(us_weather_events_df):\n",
    "    \"\"\"Preprocess raw weather events data.\"\"\"\n",
    "    # standardize date fields\n",
    "    us_weather_events_df['EndTime(UTC)'] = pd.to_datetime(us_weather_events_df['EndTime(UTC)'])\n",
    "    us_weather_events_df['Event.Date'] = us_weather_events_df['EndTime(UTC)'].dt.date\n",
    "    \n",
    "    # filter for 2018\n",
    "    us_weather_events_2018_df = us_weather_events_df[us_weather_events_df['EndTime(UTC)'].dt.year == 2018]\n",
    "    \n",
    "    # remove unused features\n",
    "    del us_weather_events_2018_df['TimeZone']\n",
    "    del us_weather_events_2018_df['LocationLat']\n",
    "    del us_weather_events_2018_df['LocationLng']\n",
    "    del us_weather_events_2018_df['City']\n",
    "    del us_weather_events_2018_df['County']\n",
    "    del us_weather_events_2018_df['State']\n",
    "    del us_weather_events_2018_df['ZipCode']\n",
    "    del us_weather_events_2018_df['StartTime(UTC)']\n",
    "    del us_weather_events_2018_df['EndTime(UTC)']\n",
    "    \n",
    "    # type cast date as string for merge\n",
    "    us_weather_events_2018_df['Event.Date'] = us_weather_events_2018_df['Event.Date'].astype(str)\n",
    "    \n",
    "    return us_weather_events_2018_df"
   ]
  },
  {
   "cell_type": "code",
   "execution_count": 198,
   "metadata": {},
   "outputs": [
    {
     "name": "stderr",
     "output_type": "stream",
     "text": [
      "c:\\users\\thoma\\appdata\\local\\programs\\python\\python36\\lib\\site-packages\\ipykernel_launcher.py:22: SettingWithCopyWarning: \n",
      "A value is trying to be set on a copy of a slice from a DataFrame.\n",
      "Try using .loc[row_indexer,col_indexer] = value instead\n",
      "\n",
      "See the caveats in the documentation: http://pandas.pydata.org/pandas-docs/stable/indexing.html#indexing-view-versus-copy\n"
     ]
    }
   ],
   "source": [
    "us_weather_events_2018_df = preprocess_weather_events(us_weather_events_df)"
   ]
  },
  {
   "cell_type": "code",
   "execution_count": 199,
   "metadata": {},
   "outputs": [
    {
     "data": {
      "text/html": [
       "<div>\n",
       "<style scoped>\n",
       "    .dataframe tbody tr th:only-of-type {\n",
       "        vertical-align: middle;\n",
       "    }\n",
       "\n",
       "    .dataframe tbody tr th {\n",
       "        vertical-align: top;\n",
       "    }\n",
       "\n",
       "    .dataframe thead th {\n",
       "        text-align: right;\n",
       "    }\n",
       "</style>\n",
       "<table border=\"1\" class=\"dataframe\">\n",
       "  <thead>\n",
       "    <tr style=\"text-align: right;\">\n",
       "      <th></th>\n",
       "      <th>EventId</th>\n",
       "      <th>Type</th>\n",
       "      <th>Severity</th>\n",
       "      <th>AirportCode</th>\n",
       "      <th>Event.Date</th>\n",
       "    </tr>\n",
       "  </thead>\n",
       "  <tbody>\n",
       "    <tr>\n",
       "      <th>965</th>\n",
       "      <td>W-966</td>\n",
       "      <td>Rain</td>\n",
       "      <td>Light</td>\n",
       "      <td>K04V</td>\n",
       "      <td>2018-01-07</td>\n",
       "    </tr>\n",
       "    <tr>\n",
       "      <th>966</th>\n",
       "      <td>W-967</td>\n",
       "      <td>Snow</td>\n",
       "      <td>Light</td>\n",
       "      <td>K04V</td>\n",
       "      <td>2018-01-07</td>\n",
       "    </tr>\n",
       "    <tr>\n",
       "      <th>967</th>\n",
       "      <td>W-968</td>\n",
       "      <td>Snow</td>\n",
       "      <td>Light</td>\n",
       "      <td>K04V</td>\n",
       "      <td>2018-01-11</td>\n",
       "    </tr>\n",
       "    <tr>\n",
       "      <th>968</th>\n",
       "      <td>W-969</td>\n",
       "      <td>Snow</td>\n",
       "      <td>Light</td>\n",
       "      <td>K04V</td>\n",
       "      <td>2018-01-12</td>\n",
       "    </tr>\n",
       "    <tr>\n",
       "      <th>969</th>\n",
       "      <td>W-970</td>\n",
       "      <td>Snow</td>\n",
       "      <td>Light</td>\n",
       "      <td>K04V</td>\n",
       "      <td>2018-01-12</td>\n",
       "    </tr>\n",
       "  </tbody>\n",
       "</table>\n",
       "</div>"
      ],
      "text/plain": [
       "    EventId  Type Severity AirportCode  Event.Date\n",
       "965   W-966  Rain    Light        K04V  2018-01-07\n",
       "966   W-967  Snow    Light        K04V  2018-01-07\n",
       "967   W-968  Snow    Light        K04V  2018-01-11\n",
       "968   W-969  Snow    Light        K04V  2018-01-12\n",
       "969   W-970  Snow    Light        K04V  2018-01-12"
      ]
     },
     "execution_count": 199,
     "metadata": {},
     "output_type": "execute_result"
    }
   ],
   "source": [
    "us_weather_events_2018_df.head()"
   ]
  },
  {
   "cell_type": "code",
   "execution_count": 200,
   "metadata": {},
   "outputs": [
    {
     "data": {
      "text/plain": [
       "(279428, 5)"
      ]
     },
     "execution_count": 200,
     "metadata": {},
     "output_type": "execute_result"
    }
   ],
   "source": [
    "us_weather_events_2018_df.shape"
   ]
  },
  {
   "cell_type": "code",
   "execution_count": null,
   "metadata": {},
   "outputs": [],
   "source": []
  },
  {
   "cell_type": "markdown",
   "metadata": {},
   "source": [
    "#### US 2018 Flights Data Preprocessing Goals:\n",
    "- Derive Airport.Code flight density metric to show how \"busy\" an airport is as a feature"
   ]
  },
  {
   "cell_type": "code",
   "execution_count": 129,
   "metadata": {},
   "outputs": [
    {
     "data": {
      "text/html": [
       "<div>\n",
       "<style scoped>\n",
       "    .dataframe tbody tr th:only-of-type {\n",
       "        vertical-align: middle;\n",
       "    }\n",
       "\n",
       "    .dataframe tbody tr th {\n",
       "        vertical-align: top;\n",
       "    }\n",
       "\n",
       "    .dataframe thead th {\n",
       "        text-align: right;\n",
       "    }\n",
       "</style>\n",
       "<table border=\"1\" class=\"dataframe\">\n",
       "  <thead>\n",
       "    <tr style=\"text-align: right;\">\n",
       "      <th></th>\n",
       "      <th>Unnamed: 0</th>\n",
       "      <th>ItinID</th>\n",
       "      <th>MktID</th>\n",
       "      <th>MktCoupons</th>\n",
       "      <th>Quarter</th>\n",
       "      <th>Origin</th>\n",
       "      <th>OriginWac</th>\n",
       "      <th>Dest</th>\n",
       "      <th>DestWac</th>\n",
       "      <th>Miles</th>\n",
       "      <th>ContiguousUSA</th>\n",
       "      <th>NumTicketsOrdered</th>\n",
       "      <th>AirlineCompany</th>\n",
       "      <th>PricePerTicket</th>\n",
       "    </tr>\n",
       "  </thead>\n",
       "  <tbody>\n",
       "    <tr>\n",
       "      <th>0</th>\n",
       "      <td>0</td>\n",
       "      <td>2.018177e+10</td>\n",
       "      <td>2.018180e+12</td>\n",
       "      <td>1</td>\n",
       "      <td>1</td>\n",
       "      <td>PHL</td>\n",
       "      <td>23</td>\n",
       "      <td>LAX</td>\n",
       "      <td>91</td>\n",
       "      <td>2402</td>\n",
       "      <td>2</td>\n",
       "      <td>1</td>\n",
       "      <td>AA</td>\n",
       "      <td>672.87</td>\n",
       "    </tr>\n",
       "    <tr>\n",
       "      <th>1</th>\n",
       "      <td>1</td>\n",
       "      <td>2.018177e+10</td>\n",
       "      <td>2.018180e+12</td>\n",
       "      <td>1</td>\n",
       "      <td>1</td>\n",
       "      <td>PHL</td>\n",
       "      <td>23</td>\n",
       "      <td>LAX</td>\n",
       "      <td>91</td>\n",
       "      <td>2402</td>\n",
       "      <td>2</td>\n",
       "      <td>1</td>\n",
       "      <td>AA</td>\n",
       "      <td>367.68</td>\n",
       "    </tr>\n",
       "    <tr>\n",
       "      <th>2</th>\n",
       "      <td>2</td>\n",
       "      <td>2.018177e+10</td>\n",
       "      <td>2.018180e+12</td>\n",
       "      <td>1</td>\n",
       "      <td>1</td>\n",
       "      <td>PHL</td>\n",
       "      <td>23</td>\n",
       "      <td>LAX</td>\n",
       "      <td>91</td>\n",
       "      <td>2402</td>\n",
       "      <td>2</td>\n",
       "      <td>1</td>\n",
       "      <td>AA</td>\n",
       "      <td>417.94</td>\n",
       "    </tr>\n",
       "    <tr>\n",
       "      <th>3</th>\n",
       "      <td>3</td>\n",
       "      <td>2.018177e+10</td>\n",
       "      <td>2.018180e+12</td>\n",
       "      <td>1</td>\n",
       "      <td>1</td>\n",
       "      <td>PHL</td>\n",
       "      <td>23</td>\n",
       "      <td>LAX</td>\n",
       "      <td>91</td>\n",
       "      <td>2402</td>\n",
       "      <td>2</td>\n",
       "      <td>1</td>\n",
       "      <td>AA</td>\n",
       "      <td>247.10</td>\n",
       "    </tr>\n",
       "    <tr>\n",
       "      <th>4</th>\n",
       "      <td>4</td>\n",
       "      <td>2.018177e+10</td>\n",
       "      <td>2.018180e+12</td>\n",
       "      <td>1</td>\n",
       "      <td>1</td>\n",
       "      <td>PHL</td>\n",
       "      <td>23</td>\n",
       "      <td>LAX</td>\n",
       "      <td>91</td>\n",
       "      <td>2402</td>\n",
       "      <td>2</td>\n",
       "      <td>1</td>\n",
       "      <td>AA</td>\n",
       "      <td>276.35</td>\n",
       "    </tr>\n",
       "  </tbody>\n",
       "</table>\n",
       "</div>"
      ],
      "text/plain": [
       "   Unnamed: 0        ItinID         MktID  MktCoupons  Quarter Origin  \\\n",
       "0           0  2.018177e+10  2.018180e+12           1        1    PHL   \n",
       "1           1  2.018177e+10  2.018180e+12           1        1    PHL   \n",
       "2           2  2.018177e+10  2.018180e+12           1        1    PHL   \n",
       "3           3  2.018177e+10  2.018180e+12           1        1    PHL   \n",
       "4           4  2.018177e+10  2.018180e+12           1        1    PHL   \n",
       "\n",
       "   OriginWac Dest  DestWac  Miles  ContiguousUSA  NumTicketsOrdered  \\\n",
       "0         23  LAX       91   2402              2                  1   \n",
       "1         23  LAX       91   2402              2                  1   \n",
       "2         23  LAX       91   2402              2                  1   \n",
       "3         23  LAX       91   2402              2                  1   \n",
       "4         23  LAX       91   2402              2                  1   \n",
       "\n",
       "  AirlineCompany  PricePerTicket  \n",
       "0             AA          672.87  \n",
       "1             AA          367.68  \n",
       "2             AA          417.94  \n",
       "3             AA          247.10  \n",
       "4             AA          276.35  "
      ]
     },
     "execution_count": 129,
     "metadata": {},
     "output_type": "execute_result"
    }
   ],
   "source": [
    "flights_df.head()"
   ]
  },
  {
   "cell_type": "code",
   "execution_count": 140,
   "metadata": {},
   "outputs": [],
   "source": [
    "def derive_flight_density(flights_df):\n",
    "    \"\"\"Derive flight density feature.\"\"\"\n",
    "    # aggregate data\n",
    "    origin_density = flights_df.groupby(['Origin'])['ItinID'].nunique().to_frame().reset_index()\n",
    "    destination_density = flights_df.groupby(['Dest'])['ItinID'].nunique().to_frame().reset_index()\n",
    "    \n",
    "    # merge and sum for volume\n",
    "    airport_code_density = origin_density.merge(destination_density, how='inner', left_on='Origin', right_on='Dest')\n",
    "    airport_code_density['Volume'] = airport_code_density['ItinID_x'] + airport_code_density['ItinID_y']\n",
    "    # normalize\n",
    "    airport_code_density['Flight_Density'] = round(airport_code_density['Volume']/airport_code_density['Volume'].max(),6)\n",
    "    \n",
    "    # remove unnecessary columns\n",
    "    del airport_code_density['ItinID_x']\n",
    "    del airport_code_density['ItinID_y']\n",
    "    del airport_code_density['Dest']\n",
    "    del airport_code_density['Volume']\n",
    "    \n",
    "    # rename columns\n",
    "    airport_code_density.rename(columns={'Origin':'Airport.Code'},inplace=True)\n",
    "    \n",
    "    return airport_code_density"
   ]
  },
  {
   "cell_type": "code",
   "execution_count": 141,
   "metadata": {},
   "outputs": [],
   "source": [
    "airport_code_density = derive_flight_density(flights_df)"
   ]
  },
  {
   "cell_type": "code",
   "execution_count": 142,
   "metadata": {},
   "outputs": [
    {
     "data": {
      "text/html": [
       "<div>\n",
       "<style scoped>\n",
       "    .dataframe tbody tr th:only-of-type {\n",
       "        vertical-align: middle;\n",
       "    }\n",
       "\n",
       "    .dataframe tbody tr th {\n",
       "        vertical-align: top;\n",
       "    }\n",
       "\n",
       "    .dataframe thead th {\n",
       "        text-align: right;\n",
       "    }\n",
       "</style>\n",
       "<table border=\"1\" class=\"dataframe\">\n",
       "  <thead>\n",
       "    <tr style=\"text-align: right;\">\n",
       "      <th></th>\n",
       "      <th>Airport.Code</th>\n",
       "      <th>Flight_Density</th>\n",
       "    </tr>\n",
       "  </thead>\n",
       "  <tbody>\n",
       "    <tr>\n",
       "      <th>0</th>\n",
       "      <td>ABE</td>\n",
       "      <td>0.000028</td>\n",
       "    </tr>\n",
       "    <tr>\n",
       "      <th>1</th>\n",
       "      <td>ABQ</td>\n",
       "      <td>0.009092</td>\n",
       "    </tr>\n",
       "    <tr>\n",
       "      <th>2</th>\n",
       "      <td>ADK</td>\n",
       "      <td>0.000028</td>\n",
       "    </tr>\n",
       "    <tr>\n",
       "      <th>3</th>\n",
       "      <td>ADQ</td>\n",
       "      <td>0.000028</td>\n",
       "    </tr>\n",
       "    <tr>\n",
       "      <th>4</th>\n",
       "      <td>AGS</td>\n",
       "      <td>0.000028</td>\n",
       "    </tr>\n",
       "  </tbody>\n",
       "</table>\n",
       "</div>"
      ],
      "text/plain": [
       "  Airport.Code  Flight_Density\n",
       "0          ABE        0.000028\n",
       "1          ABQ        0.009092\n",
       "2          ADK        0.000028\n",
       "3          ADQ        0.000028\n",
       "4          AGS        0.000028"
      ]
     },
     "execution_count": 142,
     "metadata": {},
     "output_type": "execute_result"
    }
   ],
   "source": [
    "airport_code_density.head()"
   ]
  },
  {
   "cell_type": "code",
   "execution_count": null,
   "metadata": {},
   "outputs": [],
   "source": []
  },
  {
   "cell_type": "markdown",
   "metadata": {},
   "source": [
    "### Merge dataset\n",
    "\n",
    "#### Goals:\n",
    "- add derived airport code density feature, key on Airport.Code\n",
    "- add weather events data, key on airport code and event date"
   ]
  },
  {
   "cell_type": "code",
   "execution_count": 175,
   "metadata": {},
   "outputs": [
    {
     "data": {
      "text/html": [
       "<div>\n",
       "<style scoped>\n",
       "    .dataframe tbody tr th:only-of-type {\n",
       "        vertical-align: middle;\n",
       "    }\n",
       "\n",
       "    .dataframe tbody tr th {\n",
       "        vertical-align: top;\n",
       "    }\n",
       "\n",
       "    .dataframe thead th {\n",
       "        text-align: right;\n",
       "    }\n",
       "</style>\n",
       "<table border=\"1\" class=\"dataframe\">\n",
       "  <thead>\n",
       "    <tr style=\"text-align: right;\">\n",
       "      <th></th>\n",
       "      <th>Event.Id</th>\n",
       "      <th>Event.Date</th>\n",
       "      <th>Airport.Code</th>\n",
       "      <th>Injury.Severity</th>\n",
       "      <th>Aircraft.Damage</th>\n",
       "      <th>Aircraft.Category</th>\n",
       "      <th>Make</th>\n",
       "      <th>Model</th>\n",
       "      <th>Amateur.Built</th>\n",
       "      <th>Number.of.Engines</th>\n",
       "      <th>Engine.Type</th>\n",
       "      <th>FAR.Description</th>\n",
       "      <th>Purpose.of.Flight</th>\n",
       "      <th>Air.Carrier</th>\n",
       "      <th>Weather.Condition</th>\n",
       "      <th>Broad.Phase.of.Flight</th>\n",
       "      <th>State</th>\n",
       "    </tr>\n",
       "  </thead>\n",
       "  <tbody>\n",
       "    <tr>\n",
       "      <th>1479</th>\n",
       "      <td>20181231X63848</td>\n",
       "      <td>2018-12-31</td>\n",
       "      <td>KCLT</td>\n",
       "      <td>Non-Fatal</td>\n",
       "      <td>Substantial</td>\n",
       "      <td>Airplane</td>\n",
       "      <td>boeing</td>\n",
       "      <td>757</td>\n",
       "      <td>No</td>\n",
       "      <td>2.0</td>\n",
       "      <td>NaN</td>\n",
       "      <td>Part 121: Air Carrier</td>\n",
       "      <td>NaN</td>\n",
       "      <td>American Airlines</td>\n",
       "      <td>IMC</td>\n",
       "      <td>NaN</td>\n",
       "      <td>NC</td>\n",
       "    </tr>\n",
       "  </tbody>\n",
       "</table>\n",
       "</div>"
      ],
      "text/plain": [
       "            Event.Id Event.Date Airport.Code Injury.Severity Aircraft.Damage  \\\n",
       "1479  20181231X63848 2018-12-31         KCLT       Non-Fatal     Substantial   \n",
       "\n",
       "     Aircraft.Category    Make Model Amateur.Built  Number.of.Engines  \\\n",
       "1479          Airplane  boeing   757            No                2.0   \n",
       "\n",
       "     Engine.Type        FAR.Description Purpose.of.Flight        Air.Carrier  \\\n",
       "1479         NaN  Part 121: Air Carrier               NaN  American Airlines   \n",
       "\n",
       "     Weather.Condition Broad.Phase.of.Flight State  \n",
       "1479               IMC                   NaN    NC  "
      ]
     },
     "execution_count": 175,
     "metadata": {},
     "output_type": "execute_result"
    }
   ],
   "source": [
    "us_accidents_2018.head(1)"
   ]
  },
  {
   "cell_type": "code",
   "execution_count": 177,
   "metadata": {},
   "outputs": [
    {
     "data": {
      "text/html": [
       "<div>\n",
       "<style scoped>\n",
       "    .dataframe tbody tr th:only-of-type {\n",
       "        vertical-align: middle;\n",
       "    }\n",
       "\n",
       "    .dataframe tbody tr th {\n",
       "        vertical-align: top;\n",
       "    }\n",
       "\n",
       "    .dataframe thead th {\n",
       "        text-align: right;\n",
       "    }\n",
       "</style>\n",
       "<table border=\"1\" class=\"dataframe\">\n",
       "  <thead>\n",
       "    <tr style=\"text-align: right;\">\n",
       "      <th></th>\n",
       "      <th>EventId</th>\n",
       "      <th>Type</th>\n",
       "      <th>Severity</th>\n",
       "      <th>AirportCode</th>\n",
       "      <th>Event.Date</th>\n",
       "    </tr>\n",
       "  </thead>\n",
       "  <tbody>\n",
       "    <tr>\n",
       "      <th>965</th>\n",
       "      <td>W-966</td>\n",
       "      <td>Rain</td>\n",
       "      <td>Light</td>\n",
       "      <td>K04V</td>\n",
       "      <td>2018-01-07</td>\n",
       "    </tr>\n",
       "  </tbody>\n",
       "</table>\n",
       "</div>"
      ],
      "text/plain": [
       "    EventId  Type Severity AirportCode  Event.Date\n",
       "965   W-966  Rain    Light        K04V  2018-01-07"
      ]
     },
     "execution_count": 177,
     "metadata": {},
     "output_type": "execute_result"
    }
   ],
   "source": [
    "us_weather_events_2018_df.head(1)"
   ]
  },
  {
   "cell_type": "code",
   "execution_count": 178,
   "metadata": {},
   "outputs": [
    {
     "data": {
      "text/html": [
       "<div>\n",
       "<style scoped>\n",
       "    .dataframe tbody tr th:only-of-type {\n",
       "        vertical-align: middle;\n",
       "    }\n",
       "\n",
       "    .dataframe tbody tr th {\n",
       "        vertical-align: top;\n",
       "    }\n",
       "\n",
       "    .dataframe thead th {\n",
       "        text-align: right;\n",
       "    }\n",
       "</style>\n",
       "<table border=\"1\" class=\"dataframe\">\n",
       "  <thead>\n",
       "    <tr style=\"text-align: right;\">\n",
       "      <th></th>\n",
       "      <th>Airport.Code</th>\n",
       "      <th>Flight_Density</th>\n",
       "    </tr>\n",
       "  </thead>\n",
       "  <tbody>\n",
       "    <tr>\n",
       "      <th>0</th>\n",
       "      <td>ABE</td>\n",
       "      <td>0.000028</td>\n",
       "    </tr>\n",
       "  </tbody>\n",
       "</table>\n",
       "</div>"
      ],
      "text/plain": [
       "  Airport.Code  Flight_Density\n",
       "0          ABE        0.000028"
      ]
     },
     "execution_count": 178,
     "metadata": {},
     "output_type": "execute_result"
    }
   ],
   "source": [
    "airport_code_density.head(1)"
   ]
  },
  {
   "cell_type": "code",
   "execution_count": 184,
   "metadata": {},
   "outputs": [],
   "source": [
    "us_accidents_2018 = us_accidents_2018.merge(airport_code_density, how='left', on='Airport.Code')"
   ]
  },
  {
   "cell_type": "code",
   "execution_count": 201,
   "metadata": {},
   "outputs": [],
   "source": [
    "merged_df = us_accidents_2018.merge(us_weather_events_2018_df, how='left', left_on=['Airport.Code','Event.Date'], right_on=['AirportCode','Event.Date'])"
   ]
  },
  {
   "cell_type": "code",
   "execution_count": 202,
   "metadata": {},
   "outputs": [
    {
     "data": {
      "text/html": [
       "<div>\n",
       "<style scoped>\n",
       "    .dataframe tbody tr th:only-of-type {\n",
       "        vertical-align: middle;\n",
       "    }\n",
       "\n",
       "    .dataframe tbody tr th {\n",
       "        vertical-align: top;\n",
       "    }\n",
       "\n",
       "    .dataframe thead th {\n",
       "        text-align: right;\n",
       "    }\n",
       "</style>\n",
       "<table border=\"1\" class=\"dataframe\">\n",
       "  <thead>\n",
       "    <tr style=\"text-align: right;\">\n",
       "      <th></th>\n",
       "      <th>Event.Id</th>\n",
       "      <th>Event.Date</th>\n",
       "      <th>Airport.Code</th>\n",
       "      <th>Injury.Severity</th>\n",
       "      <th>Aircraft.Damage</th>\n",
       "      <th>Aircraft.Category</th>\n",
       "      <th>Make</th>\n",
       "      <th>Model</th>\n",
       "      <th>Amateur.Built</th>\n",
       "      <th>Number.of.Engines</th>\n",
       "      <th>...</th>\n",
       "      <th>FAR.Description</th>\n",
       "      <th>Purpose.of.Flight</th>\n",
       "      <th>Air.Carrier</th>\n",
       "      <th>Weather.Condition</th>\n",
       "      <th>Broad.Phase.of.Flight</th>\n",
       "      <th>State</th>\n",
       "      <th>EventId</th>\n",
       "      <th>Type</th>\n",
       "      <th>Severity</th>\n",
       "      <th>AirportCode</th>\n",
       "    </tr>\n",
       "  </thead>\n",
       "  <tbody>\n",
       "    <tr>\n",
       "      <th>0</th>\n",
       "      <td>20181231X63848</td>\n",
       "      <td>2018-12-31</td>\n",
       "      <td>KCLT</td>\n",
       "      <td>Non-Fatal</td>\n",
       "      <td>Substantial</td>\n",
       "      <td>Airplane</td>\n",
       "      <td>boeing</td>\n",
       "      <td>757</td>\n",
       "      <td>No</td>\n",
       "      <td>2.0</td>\n",
       "      <td>...</td>\n",
       "      <td>Part 121: Air Carrier</td>\n",
       "      <td>NaN</td>\n",
       "      <td>American Airlines</td>\n",
       "      <td>IMC</td>\n",
       "      <td>NaN</td>\n",
       "      <td>NC</td>\n",
       "      <td>NaN</td>\n",
       "      <td>NaN</td>\n",
       "      <td>NaN</td>\n",
       "      <td>NaN</td>\n",
       "    </tr>\n",
       "    <tr>\n",
       "      <th>1</th>\n",
       "      <td>20190108X15022</td>\n",
       "      <td>2018-12-30</td>\n",
       "      <td>KMYF</td>\n",
       "      <td>Non-Fatal</td>\n",
       "      <td>Substantial</td>\n",
       "      <td>Airplane</td>\n",
       "      <td>piper</td>\n",
       "      <td>pa46</td>\n",
       "      <td>No</td>\n",
       "      <td>1.0</td>\n",
       "      <td>...</td>\n",
       "      <td>Part 91: General Aviation</td>\n",
       "      <td>Personal</td>\n",
       "      <td>NaN</td>\n",
       "      <td>VMC</td>\n",
       "      <td>LANDING</td>\n",
       "      <td>CA</td>\n",
       "      <td>NaN</td>\n",
       "      <td>NaN</td>\n",
       "      <td>NaN</td>\n",
       "      <td>NaN</td>\n",
       "    </tr>\n",
       "    <tr>\n",
       "      <th>2</th>\n",
       "      <td>20181231X83429</td>\n",
       "      <td>2018-12-30</td>\n",
       "      <td>CDW</td>\n",
       "      <td>Non-Fatal</td>\n",
       "      <td>Substantial</td>\n",
       "      <td>Airplane</td>\n",
       "      <td>cessna</td>\n",
       "      <td>172</td>\n",
       "      <td>No</td>\n",
       "      <td>1.0</td>\n",
       "      <td>...</td>\n",
       "      <td>Part 91: General Aviation</td>\n",
       "      <td>Instructional</td>\n",
       "      <td>NaN</td>\n",
       "      <td>VMC</td>\n",
       "      <td>TAKEOFF</td>\n",
       "      <td>NJ</td>\n",
       "      <td>NaN</td>\n",
       "      <td>NaN</td>\n",
       "      <td>NaN</td>\n",
       "      <td>NaN</td>\n",
       "    </tr>\n",
       "    <tr>\n",
       "      <th>3</th>\n",
       "      <td>20181231X83152</td>\n",
       "      <td>2018-12-30</td>\n",
       "      <td>X04</td>\n",
       "      <td>Non-Fatal</td>\n",
       "      <td>Substantial</td>\n",
       "      <td>Airplane</td>\n",
       "      <td>cessna</td>\n",
       "      <td>lc41</td>\n",
       "      <td>No</td>\n",
       "      <td>NaN</td>\n",
       "      <td>...</td>\n",
       "      <td>Part 91: General Aviation</td>\n",
       "      <td>Personal</td>\n",
       "      <td>NaN</td>\n",
       "      <td>VMC</td>\n",
       "      <td>GO-AROUND</td>\n",
       "      <td>FL</td>\n",
       "      <td>NaN</td>\n",
       "      <td>NaN</td>\n",
       "      <td>NaN</td>\n",
       "      <td>NaN</td>\n",
       "    </tr>\n",
       "    <tr>\n",
       "      <th>4</th>\n",
       "      <td>20181231X45242</td>\n",
       "      <td>2018-12-30</td>\n",
       "      <td>SJX</td>\n",
       "      <td>Fatal(1)</td>\n",
       "      <td>Substantial</td>\n",
       "      <td>Airplane</td>\n",
       "      <td>piper</td>\n",
       "      <td>pa 23</td>\n",
       "      <td>No</td>\n",
       "      <td>2.0</td>\n",
       "      <td>...</td>\n",
       "      <td>Part 91: General Aviation</td>\n",
       "      <td>Personal</td>\n",
       "      <td>NaN</td>\n",
       "      <td>VMC</td>\n",
       "      <td>TAKEOFF</td>\n",
       "      <td>MI</td>\n",
       "      <td>NaN</td>\n",
       "      <td>NaN</td>\n",
       "      <td>NaN</td>\n",
       "      <td>NaN</td>\n",
       "    </tr>\n",
       "  </tbody>\n",
       "</table>\n",
       "<p>5 rows × 21 columns</p>\n",
       "</div>"
      ],
      "text/plain": [
       "         Event.Id  Event.Date Airport.Code Injury.Severity Aircraft.Damage  \\\n",
       "0  20181231X63848  2018-12-31         KCLT       Non-Fatal     Substantial   \n",
       "1  20190108X15022  2018-12-30         KMYF       Non-Fatal     Substantial   \n",
       "2  20181231X83429  2018-12-30          CDW       Non-Fatal     Substantial   \n",
       "3  20181231X83152  2018-12-30          X04       Non-Fatal     Substantial   \n",
       "4  20181231X45242  2018-12-30          SJX        Fatal(1)     Substantial   \n",
       "\n",
       "  Aircraft.Category    Make  Model Amateur.Built  Number.of.Engines  \\\n",
       "0          Airplane  boeing    757            No                2.0   \n",
       "1          Airplane   piper   pa46            No                1.0   \n",
       "2          Airplane  cessna    172            No                1.0   \n",
       "3          Airplane  cessna   lc41            No                NaN   \n",
       "4          Airplane   piper  pa 23            No                2.0   \n",
       "\n",
       "      ...                FAR.Description Purpose.of.Flight        Air.Carrier  \\\n",
       "0     ...          Part 121: Air Carrier               NaN  American Airlines   \n",
       "1     ...      Part 91: General Aviation          Personal                NaN   \n",
       "2     ...      Part 91: General Aviation     Instructional                NaN   \n",
       "3     ...      Part 91: General Aviation          Personal                NaN   \n",
       "4     ...      Part 91: General Aviation          Personal                NaN   \n",
       "\n",
       "  Weather.Condition Broad.Phase.of.Flight State EventId Type Severity  \\\n",
       "0               IMC                   NaN    NC     NaN  NaN      NaN   \n",
       "1               VMC               LANDING    CA     NaN  NaN      NaN   \n",
       "2               VMC               TAKEOFF    NJ     NaN  NaN      NaN   \n",
       "3               VMC             GO-AROUND    FL     NaN  NaN      NaN   \n",
       "4               VMC               TAKEOFF    MI     NaN  NaN      NaN   \n",
       "\n",
       "  AirportCode  \n",
       "0         NaN  \n",
       "1         NaN  \n",
       "2         NaN  \n",
       "3         NaN  \n",
       "4         NaN  \n",
       "\n",
       "[5 rows x 21 columns]"
      ]
     },
     "execution_count": 202,
     "metadata": {},
     "output_type": "execute_result"
    }
   ],
   "source": [
    "merged_df.head()"
   ]
  },
  {
   "cell_type": "code",
   "execution_count": 203,
   "metadata": {},
   "outputs": [
    {
     "data": {
      "text/plain": [
       "Index(['Event.Id', 'Event.Date', 'Airport.Code', 'Injury.Severity',\n",
       "       'Aircraft.Damage', 'Aircraft.Category', 'Make', 'Model',\n",
       "       'Amateur.Built', 'Number.of.Engines', 'Engine.Type', 'FAR.Description',\n",
       "       'Purpose.of.Flight', 'Air.Carrier', 'Weather.Condition',\n",
       "       'Broad.Phase.of.Flight', 'State', 'EventId', 'Type', 'Severity',\n",
       "       'AirportCode'],\n",
       "      dtype='object')"
      ]
     },
     "execution_count": 203,
     "metadata": {},
     "output_type": "execute_result"
    }
   ],
   "source": [
    "merged_df.columns"
   ]
  },
  {
   "cell_type": "code",
   "execution_count": 204,
   "metadata": {},
   "outputs": [
    {
     "data": {
      "text/plain": [
       "(1361, 21)"
      ]
     },
     "execution_count": 204,
     "metadata": {},
     "output_type": "execute_result"
    }
   ],
   "source": [
    "merged_df.shape"
   ]
  },
  {
   "cell_type": "code",
   "execution_count": null,
   "metadata": {},
   "outputs": [],
   "source": []
  },
  {
   "cell_type": "code",
   "execution_count": null,
   "metadata": {},
   "outputs": [],
   "source": []
  }
 ],
 "metadata": {
  "kernelspec": {
   "display_name": "Python 3",
   "language": "python",
   "name": "python3"
  },
  "language_info": {
   "codemirror_mode": {
    "name": "ipython",
    "version": 3
   },
   "file_extension": ".py",
   "mimetype": "text/x-python",
   "name": "python",
   "nbconvert_exporter": "python",
   "pygments_lexer": "ipython3",
   "version": "3.6.5"
  }
 },
 "nbformat": 4,
 "nbformat_minor": 2
}
